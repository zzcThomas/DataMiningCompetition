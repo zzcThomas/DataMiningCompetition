{
 "cells": [
  {
   "cell_type": "code",
   "execution_count": 2,
   "metadata": {
    "collapsed": false
   },
   "outputs": [],
   "source": [
    "x = \"curl 'https://hue.d.xiaomi.net/filebrowser/download//user/h_data_platform/platform/profile/contest_dataset_app_usage/data/part-r-%05d' -H 'Accept-Encoding: gzip, deflate, sdch, br' -H 'Accept-Language: zh-CN,zh;q=0.8' -H 'Upgrade-Insecure-Requests: 1' -H 'User-Agent: Mozilla/5.0 (X11; Linux x86_64) AppleWebKit/537.36 (KHTML, like Gecko) Ubuntu Chromium/52.0.2743.116 Chrome/52.0.2743.116 Safari/537.36' -H 'Accept: text/html,application/xhtml+xml,application/xml;q=0.9,image/webp,*/*;q=0.8' -H 'Referer: https://hue.d.xiaomi.net/filebrowser/view/?default_to_home' -H 'Cookie: sessionid=86be11cfb0b6d9138ffacc548e6e6406; d_xiaomi_id=1077602493; d_xiaomi_user=zhaozhuocheng; d_xiaomi_key=fea71043be471f91482cc4156f8bdaac; xiaomi_hdfs_cluster=c3prc-hadoop' -H 'Connection: keep-alive' --compressed > contest_dataset_usage/part-r-%05d\"  \n",
    "with open(\"a9181.sh\", \"w\") as fout:\n",
    "    for i in range(0, 199):\n",
    "        print >> fout, x % (i, i)\n",
    "        print >> fout, \"echo %d\" % (i)"
   ]
  },
  {
   "cell_type": "code",
   "execution_count": null,
   "metadata": {
    "collapsed": true
   },
   "outputs": [],
   "source": [
    "curl 'https://hue.d.xiaomi.net/filebrowser/view//user/h_data_platform/platform/profile/contest_dataset_app_category/data/part-r-00000'"
   ]
  },
  {
   "cell_type": "code",
   "execution_count": null,
   "metadata": {
    "collapsed": true
   },
   "outputs": [],
   "source": [
    "curl 'https://hue.d.xiaomi.net/filebrowser/download//user/h_data_platform/platform/profile/contest_dataset_app_usage/data/part-r-00000' -H 'Accept-Encoding: gzip, deflate, sdch, br' -H 'Accept-Language: zh-CN,zh;q=0.8' -H 'Upgrade-Insecure-Requests: 1' -H 'User-Agent: Mozilla/5.0 (X11; Linux x86_64) AppleWebKit/537.36 (KHTML, like Gecko) Ubuntu Chromium/52.0.2743.116 Chrome/52.0.2743.116 Safari/537.36' -H 'Accept: text/html,application/xhtml+xml,application/xml;q=0.9,image/webp,*/*;q=0.8' -H 'Referer: https://hue.d.xiaomi.net/filebrowser/view/?default_to_home' -H 'Cookie: sessionid=86be11cfb0b6d9138ffacc548e6e6406; d_xiaomi_id=1077602493; d_xiaomi_user=zhaozhuocheng; d_xiaomi_key=fea71043be471f91482cc4156f8bdaac; xiaomi_hdfs_cluster=c3prc-hadoop' -H 'Connection: keep-alive' --compressed"
   ]
  }
 ],
 "metadata": {
  "kernelspec": {
   "display_name": "Python 2",
   "language": "python",
   "name": "python2"
  },
  "language_info": {
   "codemirror_mode": {
    "name": "ipython",
    "version": 2
   },
   "file_extension": ".py",
   "mimetype": "text/x-python",
   "name": "python",
   "nbconvert_exporter": "python",
   "pygments_lexer": "ipython2",
   "version": "2.7.12"
  }
 },
 "nbformat": 4,
 "nbformat_minor": 1
}
