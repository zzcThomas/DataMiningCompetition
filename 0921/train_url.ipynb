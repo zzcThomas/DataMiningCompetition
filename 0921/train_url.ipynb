{
 "cells": [
  {
   "cell_type": "code",
   "execution_count": 1,
   "metadata": {
    "collapsed": true
   },
   "outputs": [],
   "source": [
    "%matplotlib inline"
   ]
  },
  {
   "cell_type": "code",
   "execution_count": 2,
   "metadata": {
    "collapsed": true
   },
   "outputs": [],
   "source": [
    "import tensorflow as tf\n",
    "from math import *\n",
    "import numpy as np\n",
    "from random import shuffle\n",
    "from pylab import *\n",
    "from multiprocessing import Pool"
   ]
  },
  {
   "cell_type": "code",
   "execution_count": 3,
   "metadata": {
    "collapsed": true
   },
   "outputs": [],
   "source": [
    "REG_DIM = 300 # dimension of logistic regression\n"
   ]
  },
  {
   "cell_type": "code",
   "execution_count": 11,
   "metadata": {
    "collapsed": false
   },
   "outputs": [
    {
     "name": "stdout",
     "output_type": "stream",
     "text": [
      "11439408\n"
     ]
    }
   ],
   "source": [
    "# get labels\n",
    "from random import shuffle\n",
    "\n",
    "def read_user_labels():\n",
    "    user_labels = {}\n",
    "\n",
    "    for fn in ['contest_dataset_label/label000000_0', 'contest_dataset_label/label000001_0']:\n",
    "        with open(fn) as file_user_label:\n",
    "            for x in file_user_label:\n",
    "                user_id, gender, user_age = x.split()\n",
    "                user_labels[user_id] = [int(gender) - 1, int(user_age) - 1]\n",
    "\n",
    "    return user_labels\n",
    "\n",
    "user_labels = read_user_labels()\n",
    "print len(user_labels)"
   ]
  },
  {
   "cell_type": "code",
   "execution_count": 4,
   "metadata": {
    "collapsed": true
   },
   "outputs": [],
   "source": [
    "#get testset\n",
    "testset = []\n",
    "with open('contest_testset/testset000000_0') as file_test:\n",
    "    for x in file_test.readlines():\n",
    "        testset += [x[:-1]]\n"
   ]
  },
  {
   "cell_type": "code",
   "execution_count": 13,
   "metadata": {
    "collapsed": true
   },
   "outputs": [],
   "source": [
    "#get url\n",
    "MAX_URL = 2000000\n",
    "def load_url(params):\n",
    "    lo, hi = params\n",
    "    gender, age = np.zeros((MAX_URL, 2), np.int32), np.zeros((MAX_URL, 7), np.int32)\n",
    "    for i in range(lo, hi):\n",
    "        fn = 'contest_dataset_url/part-r-%05d' % (i)\n",
    "        print fn\n",
    "        with open(fn) as fin:\n",
    "            D = {}\n",
    "            for x in fin:\n",
    "                user_id, app_id, time = x.split()\n",
    "                app_id = int(app_id) - 1\n",
    "                if user_id not in user_labels:\n",
    "                    continue\n",
    "                if user_id not in D:\n",
    "                    D[user_id] = {}\n",
    "                if app_id not in D[user_id]:\n",
    "                    D[user_id][app_id] = True\n",
    "                    \n",
    "                    g, a = user_labels[user_id]\n",
    "                    gender[app_id][g] += 1\n",
    "                    age[app_id][a] += 1\n",
    "    return gender, age"
   ]
  },
  {
   "cell_type": "code",
   "execution_count": 8,
   "metadata": {
    "collapsed": false,
    "scrolled": true
   },
   "outputs": [],
   "source": [
    "pool = Pool(25)\n",
    "# app_url = load_url([0, 8])\n",
    "\n",
    "params = []\n",
    "total = 179\n",
    "start = 0\n",
    "for i in range(25):\n",
    "    x = (total - start) // (25 - i)\n",
    "    params += [(i, start, start + x)]\n",
    "    start += x\n",
    "# print params\n",
    "\n",
    "# all_results = pool.map(load_url, params)"
   ]
  },
  {
   "cell_type": "code",
   "execution_count": 16,
   "metadata": {
    "collapsed": false
   },
   "outputs": [
    {
     "name": "stdout",
     "output_type": "stream",
     "text": [
      "0\n",
      "1\n",
      "2\n",
      "3\n",
      "4\n",
      "5\n",
      "6\n",
      "7\n",
      "8\n",
      "9\n",
      "10\n",
      "11\n",
      "12\n",
      "13\n",
      "14\n",
      "15\n",
      "16\n",
      "17\n",
      "18\n",
      "19\n",
      "20\n",
      "21\n",
      "22\n",
      "23\n",
      "24\n"
     ]
    }
   ],
   "source": [
    "freq_gender, freq_age = np.zeros((MAX_URL, 2), np.int32), np.zeros((MAX_URL, 7), np.int32)\n",
    "\n",
    "for i, [gender, age] in enumerate(all_results):\n",
    "    print i\n",
    "    freq_gender += gender\n",
    "    freq_age += age"
   ]
  },
  {
   "cell_type": "code",
   "execution_count": 7,
   "metadata": {
    "collapsed": false
   },
   "outputs": [],
   "source": [
    "T = np.sum(freq_gender, axis=1)\n",
    "# np.save('tmp_url/freq', {'gender': freq_gender, 'age': freq_age})"
   ]
  },
  {
   "cell_type": "code",
   "execution_count": 6,
   "metadata": {
    "collapsed": false
   },
   "outputs": [],
   "source": [
    "x = np.load('tmp_url/freq.npy').item()\n",
    "freq_gender, freq_age = x['gender'], x['age']"
   ]
  },
  {
   "cell_type": "code",
   "execution_count": 8,
   "metadata": {
    "collapsed": false
   },
   "outputs": [
    {
     "name": "stdout",
     "output_type": "stream",
     "text": [
      "(2906,)\n",
      "1845409\n",
      "1 535978\n",
      "2 295078\n",
      "3 214769\n",
      "4 125432\n",
      "5 83116\n",
      "6 60357\n",
      "7 46886\n",
      "8 37164\n",
      "9 31446\n",
      "4844361\n"
     ]
    }
   ],
   "source": [
    "print T[T > 10000].shape\n",
    "print sum(T != 0)\n",
    "for i in range(1, 10):\n",
    "    print i, sum(T == i)\n",
    "print max(T)\n",
    "# figure()\n",
    "# hist(log(T[T > 10000]), bins=10)\n",
    "# show()\n",
    "# for i in xrange(MAX_URL):\n",
    "#     if T[i] > 10000:\n",
    "#         print 1. * freq_gender[i] / sum(freq_gender[i])"
   ]
  },
  {
   "cell_type": "code",
   "execution_count": 1,
   "metadata": {
    "collapsed": false
   },
   "outputs": [
    {
     "ename": "NameError",
     "evalue": "name 'np' is not defined",
     "output_type": "error",
     "traceback": [
      "\u001b[0;31m---------------------------------------------------------------------------\u001b[0m",
      "\u001b[0;31mNameError\u001b[0m                                 Traceback (most recent call last)",
      "\u001b[0;32m<ipython-input-1-26426cac992f>\u001b[0m in \u001b[0;36m<module>\u001b[0;34m()\u001b[0m\n\u001b[1;32m      1\u001b[0m \u001b[0;31m#\u001b[0m\u001b[0;34m\u001b[0m\u001b[0;34m\u001b[0m\u001b[0m\n\u001b[0;32m----> 2\u001b[0;31m \u001b[0mall_gender\u001b[0m\u001b[0;34m,\u001b[0m \u001b[0mall_age\u001b[0m \u001b[0;34m=\u001b[0m \u001b[0mnp\u001b[0m\u001b[0;34m.\u001b[0m\u001b[0mzeros\u001b[0m\u001b[0;34m(\u001b[0m\u001b[0;36m2\u001b[0m\u001b[0;34m)\u001b[0m\u001b[0;34m,\u001b[0m \u001b[0mnp\u001b[0m\u001b[0;34m.\u001b[0m\u001b[0mzeros\u001b[0m\u001b[0;34m(\u001b[0m\u001b[0;36m7\u001b[0m\u001b[0;34m)\u001b[0m\u001b[0;34m\u001b[0m\u001b[0m\n\u001b[0m\u001b[1;32m      3\u001b[0m \u001b[0;34m\u001b[0m\u001b[0m\n\u001b[1;32m      4\u001b[0m \u001b[0;32mfor\u001b[0m \u001b[0muser_id\u001b[0m \u001b[0;32min\u001b[0m \u001b[0muser_labels\u001b[0m\u001b[0;34m:\u001b[0m\u001b[0;34m\u001b[0m\u001b[0m\n\u001b[1;32m      5\u001b[0m     \u001b[0mgender\u001b[0m\u001b[0;34m,\u001b[0m \u001b[0mage\u001b[0m \u001b[0;34m=\u001b[0m \u001b[0muser_labels\u001b[0m\u001b[0;34m[\u001b[0m\u001b[0muser_id\u001b[0m\u001b[0;34m]\u001b[0m\u001b[0;34m\u001b[0m\u001b[0m\n",
      "\u001b[0;31mNameError\u001b[0m: name 'np' is not defined"
     ]
    }
   ],
   "source": [
    "#\n",
    "all_gender, all_age = np.zeros(2), np.zeros(7)\n",
    "\n",
    "for user_id in user_labels:\n",
    "    gender, age = user_labels[user_id]\n",
    "    all_gender[gender] += 1\n",
    "    all_age[age] += 1\n",
    "\n",
    "all_gender /= sum(all_gender)\n",
    "all_age /= sum(all_age)\n",
    "\n",
    "np.save(\"all_dist\", {'gender': all_gender, 'age': all_age})"
   ]
  },
  {
   "cell_type": "code",
   "execution_count": 11,
   "metadata": {
    "collapsed": true
   },
   "outputs": [],
   "source": [
    "good_urls = np.where(T > 10000)[0]"
   ]
  },
  {
   "cell_type": "code",
   "execution_count": 12,
   "metadata": {
    "collapsed": false
   },
   "outputs": [],
   "source": [
    "'''\n",
    "determine `good` app_id.\n",
    "\n",
    "criterion: \n",
    "  1. number of users must be larger than MIN_USERS\n",
    "  2. (DEPRECATED) corresponding distribution is `significantly` far from overall_distribution\n",
    "     `significantly`: distance > AGE_THRES (for age) or distance > GENDER_THRES (for gender)\n",
    "     distance measurement: KL divergence\n",
    "  3. picking the apps with largest distance from overall distribution.\n",
    "'''\n",
    "\n",
    "MIN_USERS = 10000\n",
    "\n",
    "gender_dists = []\n",
    "age_dists = []\n",
    "for url_id in good_urls:\n",
    "    gender, age = freq_gender[url_id], freq_age[url_id]\n",
    "    if sum(gender) < MIN_USERS:\n",
    "        continue\n",
    "    population = sum(gender)\n",
    "    gender = 1. * gender / population\n",
    "    age = 1. * age / population\n",
    "    \n",
    "    extra = log(population) * 0.001\n",
    "    gender_dists += [(np.sum(gender * log(gender / all_gender)) + extra, url_id)]\n",
    "    age_dists += [(np.sum(age * log(age / all_age)) + extra, url_id)]\n",
    "\n",
    "gender_dists = list(reversed(sorted(gender_dists)))\n",
    "age_dists = list(reversed(sorted(age_dists)))\n"
   ]
  },
  {
   "cell_type": "code",
   "execution_count": 4,
   "metadata": {
    "collapsed": true
   },
   "outputs": [],
   "source": [
    "good_urls = np.load(\"tmp_url/good_urls.npy\").item()\n",
    "good_gender_urls = good_urls['gender']\n",
    "good_age_urls = good_urls['age']"
   ]
  },
  {
   "cell_type": "code",
   "execution_count": 5,
   "metadata": {
    "collapsed": false
   },
   "outputs": [],
   "source": [
    "'''\n",
    "Save/load good apps from file\n",
    "'''\n",
    "\n",
    "\n",
    "# print len(gender_dists), len(age_dists)\n",
    "\n",
    "# good_gender_urls = [(i, y) for i, (x, y) in enumerate(gender_dists[:REG_DIM])]\n",
    "# good_age_urls = [(i, y) for i, (x, y) in enumerate(age_dists[:REG_DIM])]\n",
    "\n",
    "# np.save('tmp_url/good_urls', {'gender': good_gender_urls, 'age': good_age_urls})\n",
    "\n",
    "good_age = {}\n",
    "good_gender = {}\n",
    "for i, url_id in good_gender_urls:\n",
    "    good_gender[url_id] = i # , freq_gender[url_id][0]\n",
    "\n",
    "for i, app_id in good_age_urls:\n",
    "    good_age[url_id] = i #, freq_age[url_id][1]\n",
    "\n",
    "# for i in range(REG_DIM):\n",
    "#     print good_gender_urls[i], np.sum(freq_gender[good_gender_urls[i][1]]), good_age_urls[i], np.sum(freq_age[good_age_urls[i][1]])\n",
    "\n",
    "# figure()\n",
    "# hist([x for x, y in gender_dists if x > 0.2], bins=40)\n",
    "# show()\n",
    "# print gender_dists[100]\n",
    "# print age_dists[100]\n",
    "# print log(7) / log(2) * 0.14591690295265844"
   ]
  },
  {
   "cell_type": "code",
   "execution_count": 6,
   "metadata": {
    "collapsed": true
   },
   "outputs": [],
   "source": [
    "# for each user, which urls does he visit? \n",
    "\n",
    "def load_user_url(params):\n",
    "    global REG_DIM\n",
    "    pid, lo, hi = params\n",
    "    D = []\n",
    "    total, useful = 0, 0\n",
    "    for i in range(lo, hi):\n",
    "        fn = 'contest_dataset_url/part-r-%05d' % (i)\n",
    "        print fn\n",
    "        with open(fn) as fin:\n",
    "            for x in fin:\n",
    "                user_id, app_id, time = x.split()\n",
    "                app_id = int(app_id) - 1\n",
    "                total += 1\n",
    "#                 if user_id not in D:\n",
    "#                     D[user_id] = np.zeros(REG_DIM, np.float32), np.zeros(REG_DIM, np.float32)\n",
    "#                     D[user_id] = {}\n",
    "                if app_id in good_gender or app_id in good_age:\n",
    "                    useful += 1\n",
    "                    D += [(user_id, app_id)]\n",
    "#                     if app_id not in D[user_id]:\n",
    "#                         D[user_id][app_id] = True\n",
    "#                 if app_id in good_gender:\n",
    "#                     D[user_id][good_gender[app_id][0]] = 1.\n",
    "#                 if app_id in good_age:\n",
    "#                     D[user_id][good_age[app_id][0]] = 1.\n",
    "    np.save(\"tmp_url/feature-%d.npy\" % (pid), D)\n",
    "    print \"ratio = %d/%d ~ %.6f\" % (total, useful, 1. * useful / total)\n",
    "#     return D"
   ]
  },
  {
   "cell_type": "code",
   "execution_count": 9,
   "metadata": {
    "collapsed": false
   },
   "outputs": [
    {
     "name": "stdout",
     "output_type": "stream",
     "text": [
      "contest_dataset_url/part-r-00000\n",
      "contest_dataset_url/part-r-00001\n",
      "contest_dataset_url/part-r-00002\n"
     ]
    },
    {
     "ename": "KeyboardInterrupt",
     "evalue": "",
     "output_type": "error",
     "traceback": [
      "\u001b[0;31m---------------------------------------------------------------------------\u001b[0m",
      "\u001b[0;31mKeyboardInterrupt\u001b[0m                         Traceback (most recent call last)",
      "\u001b[0;32m<ipython-input-9-380d6020eef0>\u001b[0m in \u001b[0;36m<module>\u001b[0;34m()\u001b[0m\n\u001b[1;32m      1\u001b[0m \u001b[0;31m# all_results = pool.map(load_user_url, params)\u001b[0m\u001b[0;34m\u001b[0m\u001b[0;34m\u001b[0m\u001b[0m\n\u001b[0;32m----> 2\u001b[0;31m \u001b[0mload_user_url\u001b[0m\u001b[0;34m(\u001b[0m\u001b[0mparams\u001b[0m\u001b[0;34m[\u001b[0m\u001b[0;36m0\u001b[0m\u001b[0;34m]\u001b[0m\u001b[0;34m)\u001b[0m\u001b[0;34m\u001b[0m\u001b[0m\n\u001b[0m",
      "\u001b[0;32m<ipython-input-6-811c9e889c80>\u001b[0m in \u001b[0;36mload_user_url\u001b[0;34m(params)\u001b[0m\n\u001b[1;32m     17\u001b[0m \u001b[0;31m#                     D[user_id] = np.zeros(REG_DIM, np.float32), np.zeros(REG_DIM, np.float32)\u001b[0m\u001b[0;34m\u001b[0m\u001b[0;34m\u001b[0m\u001b[0m\n\u001b[1;32m     18\u001b[0m \u001b[0;31m#                     D[user_id] = {}\u001b[0m\u001b[0;34m\u001b[0m\u001b[0;34m\u001b[0m\u001b[0m\n\u001b[0;32m---> 19\u001b[0;31m                 \u001b[0;32mif\u001b[0m \u001b[0mapp_id\u001b[0m \u001b[0;32min\u001b[0m \u001b[0mgood_gender\u001b[0m \u001b[0;32mor\u001b[0m \u001b[0mapp_id\u001b[0m \u001b[0;32min\u001b[0m \u001b[0mgood_age\u001b[0m\u001b[0;34m:\u001b[0m\u001b[0;34m\u001b[0m\u001b[0m\n\u001b[0m\u001b[1;32m     20\u001b[0m                     \u001b[0museful\u001b[0m \u001b[0;34m+=\u001b[0m \u001b[0;36m1\u001b[0m\u001b[0;34m\u001b[0m\u001b[0m\n\u001b[1;32m     21\u001b[0m                     \u001b[0mD\u001b[0m \u001b[0;34m+=\u001b[0m \u001b[0;34m[\u001b[0m\u001b[0;34m(\u001b[0m\u001b[0muser_id\u001b[0m\u001b[0;34m,\u001b[0m \u001b[0mapp_id\u001b[0m\u001b[0;34m)\u001b[0m\u001b[0;34m]\u001b[0m\u001b[0;34m\u001b[0m\u001b[0m\n",
      "\u001b[0;31mKeyboardInterrupt\u001b[0m: "
     ]
    }
   ],
   "source": [
    "# all_results = pool.map(load_user_url, params)\n",
    "load_user_url(params[0])"
   ]
  },
  {
   "cell_type": "code",
   "execution_count": 25,
   "metadata": {
    "collapsed": false
   },
   "outputs": [
    {
     "data": {
      "text/plain": [
       "{194: 88,\n",
       " 4666: 157,\n",
       " 24515: 87,\n",
       " 35095: 62,\n",
       " 36303: 201,\n",
       " 54790: 259,\n",
       " 68674: 106,\n",
       " 73129: 17,\n",
       " 78847: 173,\n",
       " 112176: 251,\n",
       " 136981: 121,\n",
       " 140918: 299,\n",
       " 141036: 280,\n",
       " 146752: 18,\n",
       " 148279: 196,\n",
       " 160920: 197,\n",
       " 163498: 14,\n",
       " 164321: 16,\n",
       " 181599: 59,\n",
       " 192935: 205,\n",
       " 199048: 10,\n",
       " 208817: 142,\n",
       " 220248: 41,\n",
       " 220399: 274,\n",
       " 223993: 133,\n",
       " 230199: 277,\n",
       " 231239: 116,\n",
       " 240356: 164,\n",
       " 246570: 27,\n",
       " 248385: 281,\n",
       " 269698: 189,\n",
       " 274165: 11,\n",
       " 274350: 241,\n",
       " 275577: 291,\n",
       " 277696: 243,\n",
       " 293252: 228,\n",
       " 294556: 198,\n",
       " 299628: 101,\n",
       " 305135: 38,\n",
       " 311784: 264,\n",
       " 314265: 194,\n",
       " 316552: 235,\n",
       " 318870: 273,\n",
       " 319424: 1,\n",
       " 328035: 179,\n",
       " 328813: 111,\n",
       " 335718: 295,\n",
       " 342715: 115,\n",
       " 348873: 156,\n",
       " 353131: 268,\n",
       " 356611: 225,\n",
       " 365260: 143,\n",
       " 365656: 85,\n",
       " 380190: 74,\n",
       " 391081: 286,\n",
       " 392187: 63,\n",
       " 393941: 165,\n",
       " 400644: 242,\n",
       " 412513: 55,\n",
       " 439629: 113,\n",
       " 454216: 20,\n",
       " 457750: 154,\n",
       " 471533: 39,\n",
       " 487710: 292,\n",
       " 488310: 103,\n",
       " 489948: 64,\n",
       " 492547: 51,\n",
       " 496554: 182,\n",
       " 507555: 160,\n",
       " 511234: 98,\n",
       " 512195: 186,\n",
       " 513571: 86,\n",
       " 514166: 187,\n",
       " 524308: 128,\n",
       " 525895: 43,\n",
       " 535128: 293,\n",
       " 535446: 167,\n",
       " 536558: 216,\n",
       " 538037: 69,\n",
       " 543870: 261,\n",
       " 552201: 67,\n",
       " 557303: 95,\n",
       " 558540: 34,\n",
       " 559660: 139,\n",
       " 561879: 238,\n",
       " 566818: 0,\n",
       " 567851: 118,\n",
       " 578891: 130,\n",
       " 602027: 53,\n",
       " 604114: 119,\n",
       " 609353: 230,\n",
       " 615634: 237,\n",
       " 615985: 247,\n",
       " 624198: 37,\n",
       " 634690: 155,\n",
       " 634975: 210,\n",
       " 639981: 208,\n",
       " 643203: 262,\n",
       " 657890: 159,\n",
       " 663964: 192,\n",
       " 666907: 44,\n",
       " 667677: 73,\n",
       " 671343: 212,\n",
       " 691650: 181,\n",
       " 692497: 209,\n",
       " 693517: 82,\n",
       " 709549: 47,\n",
       " 710976: 226,\n",
       " 720035: 285,\n",
       " 724041: 70,\n",
       " 737149: 284,\n",
       " 738741: 248,\n",
       " 755036: 135,\n",
       " 756428: 68,\n",
       " 759090: 298,\n",
       " 762894: 287,\n",
       " 764068: 60,\n",
       " 778285: 263,\n",
       " 779561: 190,\n",
       " 782347: 145,\n",
       " 789836: 176,\n",
       " 799939: 195,\n",
       " 801076: 252,\n",
       " 807123: 46,\n",
       " 807348: 26,\n",
       " 811181: 163,\n",
       " 814189: 9,\n",
       " 822765: 240,\n",
       " 823602: 183,\n",
       " 829521: 110,\n",
       " 829528: 141,\n",
       " 832744: 152,\n",
       " 835758: 245,\n",
       " 839339: 229,\n",
       " 842725: 174,\n",
       " 848861: 220,\n",
       " 857432: 250,\n",
       " 865728: 162,\n",
       " 866678: 177,\n",
       " 873496: 8,\n",
       " 885294: 153,\n",
       " 886680: 257,\n",
       " 891771: 12,\n",
       " 894934: 144,\n",
       " 904145: 150,\n",
       " 905391: 91,\n",
       " 914019: 260,\n",
       " 915315: 290,\n",
       " 929632: 83,\n",
       " 938091: 96,\n",
       " 940038: 77,\n",
       " 941449: 217,\n",
       " 943010: 125,\n",
       " 951973: 161,\n",
       " 971311: 214,\n",
       " 972791: 92,\n",
       " 977339: 23,\n",
       " 999286: 13,\n",
       " 1002532: 40,\n",
       " 1004878: 78,\n",
       " 1005961: 294,\n",
       " 1006437: 137,\n",
       " 1007333: 266,\n",
       " 1010029: 211,\n",
       " 1010556: 132,\n",
       " 1012692: 289,\n",
       " 1015252: 275,\n",
       " 1022284: 151,\n",
       " 1022383: 206,\n",
       " 1026230: 99,\n",
       " 1030163: 146,\n",
       " 1032377: 246,\n",
       " 1034283: 109,\n",
       " 1039240: 15,\n",
       " 1047200: 131,\n",
       " 1051072: 81,\n",
       " 1054877: 79,\n",
       " 1060545: 178,\n",
       " 1060997: 19,\n",
       " 1063906: 170,\n",
       " 1070900: 188,\n",
       " 1074064: 3,\n",
       " 1074172: 123,\n",
       " 1085266: 147,\n",
       " 1088035: 7,\n",
       " 1088150: 129,\n",
       " 1089348: 120,\n",
       " 1089588: 265,\n",
       " 1091481: 35,\n",
       " 1093759: 84,\n",
       " 1102642: 42,\n",
       " 1122833: 21,\n",
       " 1129544: 267,\n",
       " 1130247: 24,\n",
       " 1131815: 117,\n",
       " 1149959: 168,\n",
       " 1159115: 288,\n",
       " 1162320: 223,\n",
       " 1162807: 185,\n",
       " 1171609: 232,\n",
       " 1171780: 65,\n",
       " 1178779: 166,\n",
       " 1179405: 184,\n",
       " 1191030: 297,\n",
       " 1202380: 30,\n",
       " 1212628: 149,\n",
       " 1217564: 279,\n",
       " 1217986: 244,\n",
       " 1220850: 256,\n",
       " 1226594: 296,\n",
       " 1228263: 97,\n",
       " 1229318: 54,\n",
       " 1234290: 258,\n",
       " 1238831: 136,\n",
       " 1270796: 94,\n",
       " 1273384: 52,\n",
       " 1284514: 32,\n",
       " 1290275: 61,\n",
       " 1293915: 227,\n",
       " 1296143: 271,\n",
       " 1298177: 80,\n",
       " 1306206: 191,\n",
       " 1311397: 158,\n",
       " 1312096: 105,\n",
       " 1315657: 199,\n",
       " 1344877: 234,\n",
       " 1346182: 203,\n",
       " 1361770: 33,\n",
       " 1371282: 202,\n",
       " 1376939: 49,\n",
       " 1381016: 29,\n",
       " 1384201: 221,\n",
       " 1384437: 233,\n",
       " 1385196: 114,\n",
       " 1386186: 215,\n",
       " 1404392: 138,\n",
       " 1417562: 127,\n",
       " 1417861: 180,\n",
       " 1420672: 75,\n",
       " 1428945: 239,\n",
       " 1435059: 236,\n",
       " 1436852: 58,\n",
       " 1438739: 126,\n",
       " 1467736: 276,\n",
       " 1476620: 255,\n",
       " 1483364: 93,\n",
       " 1490645: 140,\n",
       " 1498790: 102,\n",
       " 1526693: 89,\n",
       " 1539048: 45,\n",
       " 1540895: 282,\n",
       " 1541589: 100,\n",
       " 1545238: 31,\n",
       " 1549837: 175,\n",
       " 1557662: 224,\n",
       " 1561881: 48,\n",
       " 1564956: 104,\n",
       " 1571629: 108,\n",
       " 1586717: 72,\n",
       " 1591095: 253,\n",
       " 1593717: 222,\n",
       " 1601400: 36,\n",
       " 1605461: 269,\n",
       " 1607010: 207,\n",
       " 1614401: 76,\n",
       " 1639421: 200,\n",
       " 1666578: 124,\n",
       " 1673368: 169,\n",
       " 1674391: 122,\n",
       " 1680365: 50,\n",
       " 1680381: 90,\n",
       " 1691333: 25,\n",
       " 1701785: 283,\n",
       " 1710724: 4,\n",
       " 1718802: 218,\n",
       " 1725352: 2,\n",
       " 1729359: 219,\n",
       " 1735739: 172,\n",
       " 1739898: 56,\n",
       " 1760218: 193,\n",
       " 1763791: 204,\n",
       " 1766822: 28,\n",
       " 1767770: 148,\n",
       " 1774375: 231,\n",
       " 1778891: 57,\n",
       " 1789786: 272,\n",
       " 1803427: 5,\n",
       " 1808140: 6,\n",
       " 1812065: 71,\n",
       " 1821855: 22,\n",
       " 1822644: 107,\n",
       " 1832254: 134,\n",
       " 1835626: 213,\n",
       " 1844984: 254,\n",
       " 1856154: 171,\n",
       " 1859781: 112,\n",
       " 1870879: 66,\n",
       " 1873597: 249,\n",
       " 1888293: 278,\n",
       " 1895779: 270}"
      ]
     },
     "execution_count": 25,
     "metadata": {},
     "output_type": "execute_result"
    }
   ],
   "source": [
    "good_gender"
   ]
  },
  {
   "cell_type": "code",
   "execution_count": 12,
   "metadata": {
    "collapsed": false
   },
   "outputs": [
    {
     "data": {
      "text/plain": [
       "11439408"
      ]
     },
     "execution_count": 12,
     "metadata": {},
     "output_type": "execute_result"
    }
   ],
   "source": [
    "len(user_labels)"
   ]
  },
  {
   "cell_type": "code",
   "execution_count": 13,
   "metadata": {
    "collapsed": true
   },
   "outputs": [],
   "source": [
    "np.save(\"labeled_user_id\", user_labels)"
   ]
  },
  {
   "cell_type": "code",
   "execution_count": null,
   "metadata": {
    "collapsed": true
   },
   "outputs": [],
   "source": []
  }
 ],
 "metadata": {
  "kernelspec": {
   "display_name": "Python 2",
   "language": "python",
   "name": "python2"
  },
  "language_info": {
   "codemirror_mode": {
    "name": "ipython",
    "version": 2
   },
   "file_extension": ".py",
   "mimetype": "text/x-python",
   "name": "python",
   "nbconvert_exporter": "python",
   "pygments_lexer": "ipython2",
   "version": "2.7.12"
  }
 },
 "nbformat": 4,
 "nbformat_minor": 1
}
