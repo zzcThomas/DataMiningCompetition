{
 "cells": [
  {
   "cell_type": "code",
   "execution_count": 157,
   "metadata": {
    "collapsed": false
   },
   "outputs": [],
   "source": [
    "%matplotlib inline"
   ]
  },
  {
   "cell_type": "code",
   "execution_count": 101,
   "metadata": {
    "collapsed": true
   },
   "outputs": [],
   "source": [
    "import numpy as np\n",
    "from math import *\n",
    "from pylab import *\n",
    "import random\n",
    "import tensorflow as tf"
   ]
  },
  {
   "cell_type": "code",
   "execution_count": 124,
   "metadata": {
    "collapsed": true
   },
   "outputs": [],
   "source": [
    "tf.reset_default_graph()\n",
    "sess = tf.Session()"
   ]
  },
  {
   "cell_type": "code",
   "execution_count": 241,
   "metadata": {
    "collapsed": true
   },
   "outputs": [],
   "source": [
    "batch_size = 128\n",
    "num_iterations = 100001"
   ]
  },
  {
   "cell_type": "code",
   "execution_count": 153,
   "metadata": {
    "collapsed": false
   },
   "outputs": [
    {
     "name": "stdout",
     "output_type": "stream",
     "text": [
      "0\n",
      "1\n",
      "2\n",
      "3\n",
      "4\n",
      "5\n",
      "6\n",
      "7\n",
      "8\n",
      "9\n",
      "10\n",
      "11\n",
      "12\n",
      "13\n",
      "14\n",
      "15\n",
      "16\n",
      "17\n",
      "18\n",
      "19\n",
      "20\n",
      "21\n",
      "22\n",
      "23\n",
      "24\n"
     ]
    }
   ],
   "source": [
    "def load_item_feature(LOAD_PATH):\n",
    "    D = {}\n",
    "    for i in range(25):\n",
    "        print i\n",
    "        x = np.load(LOAD_PATH % (i))\n",
    "        for key, val in x:\n",
    "            if key not in D:\n",
    "                D[key] = []\n",
    "            D[key] += [val]\n",
    "    return D\n",
    "\n",
    "app_features = load_item_feature(\"tmp_app_install/feature-%d.npy\")"
   ]
  },
  {
   "cell_type": "code",
   "execution_count": null,
   "metadata": {
    "collapsed": false
   },
   "outputs": [
    {
     "name": "stdout",
     "output_type": "stream",
     "text": [
      "0\n"
     ]
    }
   ],
   "source": [
    "url_features = load_item_feature(\"tmp_url/feature-%d.npy\")"
   ]
  },
  {
   "cell_type": "code",
   "execution_count": 7,
   "metadata": {
    "collapsed": false
   },
   "outputs": [
    {
     "name": "stdout",
     "output_type": "stream",
     "text": [
      "11439408\n"
     ]
    }
   ],
   "source": [
    "# get labels\n",
    "from random import shuffle\n",
    "\n",
    "def read_user_labels():\n",
    "    user_labels = {}\n",
    "\n",
    "    for fn in ['contest_dataset_label/label000000_0', 'contest_dataset_label/label000001_0']:\n",
    "        with open(fn) as file_user_label:\n",
    "            for x in file_user_label:\n",
    "                user_id, gender, user_age = x.split()\n",
    "                user_labels[user_id] = [int(gender) - 1, int(user_age) - 1]\n",
    "\n",
    "    return user_labels\n",
    "\n",
    "user_labels = read_user_labels()\n",
    "print len(user_labels)"
   ]
  },
  {
   "cell_type": "code",
   "execution_count": 165,
   "metadata": {
    "collapsed": false
   },
   "outputs": [],
   "source": [
    "def load_good_maps(good_path):\n",
    "    '''\n",
    "        Save/load good apps from file\n",
    "    '''\n",
    "    good_urls = np.load(good_path).item()\n",
    "    good_gender_urls = good_urls['gender']\n",
    "    good_age_urls = good_urls['age']\n",
    "\n",
    "#     good_age = {}\n",
    "#     good_gender = {}\n",
    "#     for i, url_id in good_gender_urls:\n",
    "#         good_gender[url_id] = i # , freq_gender[url_id][0]\n",
    "#     for i, app_id in good_age_urls:\n",
    "#         good_age[url_id] = i #, freq_age[url_id][1]\n",
    "\n",
    "    return good_gender_urls, good_age_urls\n",
    "\n",
    "gender_url, age_url = load_good_maps(\"tmp_url/good_urls.npy\")\n",
    "gender_app, age_app = load_good_maps(\"tmp_app_install/good_apps.npy\")\n",
    "# for i in range(REG_DIM):\n",
    "#     print good_gender_urls[i], np.sum(freq_gender[good_gender_urls[i][1]]), good_age_urls[i], np.sum(freq_age[good_age_urls[i][1]])\n",
    "\n",
    "# figure()\n",
    "# hist([x for x, y in gender_dists if x > 0.2], bins=40)\n",
    "# show()\n",
    "# print gender_dists[100]\n",
    "# print age_dists[100]\n",
    "# print log(7) / log(2) * 0.14591690295265844"
   ]
  },
  {
   "cell_type": "code",
   "execution_count": null,
   "metadata": {
    "collapsed": true
   },
   "outputs": [],
   "source": [
    "'''\n",
    "define model\n",
    "'''\n",
    "class Model:\n",
    "    def __init__(self, sess, idim, odim, keep_rate):\n",
    "        self.op_X = tf.placeholder(np.float32, [None, idim])\n",
    "        self.op_Y = tf.placeholder(np.int32, [None])\n",
    "        h1 = tf.contrib.layers.fully_connected(\n",
    "            inputs=tf.nn.dropout(self.op_X, keep_rate),\n",
    "            num_outputs=200,\n",
    "            activation_fn=tf.nn.relu,\n",
    "#             biases_initializer=tf.random_normal_initializer()\n",
    "        )\n",
    "        h2 = tf.contrib.layers.fully_connected(\n",
    "            inputs=tf.nn.dropout(h1, keep_rate),\n",
    "            num_outputs=odim,\n",
    "#             activation_fn=tf.nn.relu,\n",
    "#             biases_initializer=tf.random_normal_initializer()\n",
    "        )\n",
    "#         h3 = tf.contrib.layers.fully_connected(\n",
    "#             inputs=tf.nn.dropout(h2, keep_rate),\n",
    "#             num_outputs=odim,\n",
    "# #             activation_fn=tf.nn.relu,\n",
    "#             biases_initializer=tf.random_normal_initializer()\n",
    "#         )\n",
    "        self.logits = h2\n",
    "        \n",
    "#         regularization = tf.contrib.layers.apply_regularization(tf.contrib.layers.l1_regularizer(lambda_1)) + \\\n",
    "#             tf.contrib.layers.apply_regularization(tf.contrib.layers.l2_regularizer(lambda_2))\n",
    "#         regularization = 0\n",
    "        self.op_loss = tf.reduce_mean(tf.nn.sparse_softmax_cross_entropy_with_logits(self.logits, self.op_Y))\n",
    "        \n",
    "        optimizer = tf.train.AdamOptimizer()\n",
    "        self.op_train = optimizer.minimize(self.op_loss) # no regularization due to dropout\n",
    "        self.op_output = tf.nn.softmax(self.logits)\n",
    "        \n",
    "        sess.run(tf.initialize_all_variables())\n",
    "    \n",
    "    def train(self, sess, X, Y, loss=False):\n",
    "        ops = [self.op_train, self.op_loss, self.logits]\n",
    "        ans = sess.run(\n",
    "            ops,\n",
    "            feed_dict={\n",
    "                self.op_X: X,\n",
    "                self.op_Y: Y,\n",
    "            }\n",
    "        )\n",
    "        return ans[1:]\n",
    "    \n",
    "    def predict(self, sess, X):\n",
    "        return sess.run(\n",
    "            self.op_output,\n",
    "            feed_dict={\n",
    "                self.op_X: X\n",
    "            }\n",
    "        )\n",
    "\n",
    "model_gender = Model(sess, 2000, 2, 0.9)\n",
    "model_age = Model(sess, 2000, 7, 0.9)\n",
    "losses = []"
   ]
  },
  {
   "cell_type": "code",
   "execution_count": 197,
   "metadata": {
    "collapsed": false
   },
   "outputs": [],
   "source": [
    "def get_features(user_id):\n",
    "    X = np.zeros(2000, np.float32)\n",
    "    Y = None\n",
    "    if user_id in user_labels:\n",
    "        Y = user_labels[user_id]\n",
    "    if user_id in url_features:\n",
    "        for url_id in url_features[user_id]:\n",
    "            url_id = int(url_id)\n",
    "            if url_id in gender_url:\n",
    "                url_num = gender_url[url_id]\n",
    "                X[url_num] = 1.\n",
    "    if user_id in app_features:\n",
    "        for app_id in app_features[user_id]:\n",
    "            if app_id in gender_app:\n",
    "                app_num = gender_app[app_id]\n",
    "                X[app_num + 1000] = 1.\n",
    "    return X, Y"
   ]
  },
  {
   "cell_type": "code",
   "execution_count": null,
   "metadata": {
    "collapsed": false,
    "scrolled": false
   },
   "outputs": [
    {
     "name": "stdout",
     "output_type": "stream",
     "text": [
      "#0: tried/used = 179/128, loss(gender = 0.691953, age = 1.957310)\n",
      "#100: tried/used = 185/128, loss(gender = 0.490490, age = 1.767708)\n"
     ]
    }
   ],
   "source": [
    "'''\n",
    "train\n",
    "'''\n",
    "\n",
    "ids = []\n",
    "user_ids = user_labels.keys()\n",
    "for T in xrange(num_iterations):\n",
    "    X = np.zeros((batch_size, 2000), dtype=np.float32)\n",
    "    Y_g = np.zeros((batch_size), dtype=np.int32)\n",
    "    Y_a = np.zeros((batch_size), dtype=np.int32)\n",
    "    \n",
    "    tried, used = 0, 0\n",
    "    \n",
    "    for i in xrange(batch_size):\n",
    "        while True:\n",
    "            tried += 1\n",
    "            user_id = random.sample(user_ids, 1)[0]\n",
    "            x, (gender, age) = get_features(user_id)\n",
    "            if np.sum(x) > 0:\n",
    "                used += 1\n",
    "                ids += [user_id]\n",
    "                X[i] = x\n",
    "                Y_g[i] = gender\n",
    "                Y_a[i] = age\n",
    "                break\n",
    "\n",
    "    has_loss = T % 100 == 0\n",
    "#     pred_gender = model_gender.predict(sess, X)\n",
    "    loss_gender = model_gender.train(sess, X, Y_g, has_loss)\n",
    "    loss_age = model_age.train(sess, X, Y_a, has_loss)\n",
    "    if has_loss:\n",
    "        print \"#%d: tried/used = %d/%d, loss(gender = %.6f, age = %.6f)\" % (T, tried, used, loss_gender[0], loss_age[0])\n",
    "        \n",
    "#         print loss_gender[0]\n",
    "# #         print loss_gender[1]\n",
    "#         x = loss_gender[1]\n",
    "#         x = np.exp(x - np.max(x))\n",
    "#         x = x / np.sum(x, axis=1, keepdims=True)\n",
    "#         print x\n",
    "#         print pred_gender\n",
    "#         l = 0.\n",
    "#         for i in range(batch_size):\n",
    "#             l -= log(x[i][Y_g[i]])\n",
    "#         print l / batch_size, sum(Y_g)\n",
    "# #         print Y_g\n",
    "#         break"
   ]
  },
  {
   "cell_type": "code",
   "execution_count": 95,
   "metadata": {
    "collapsed": false
   },
   "outputs": [],
   "source": [
    "freq_gender = np.zeros((300, 2))\n",
    "for user_id, urls in url_features.iteritems():\n",
    "    for url_id in urls:\n",
    "        url_id = int(url_id)\n",
    "        if url_id in good_gender:\n",
    "            url_num = good_gender[url_id]\n",
    "            if user_id in user_labels:\n",
    "                freq_gender[url_num][user_labels[user_id][0]] += 1"
   ]
  },
  {
   "cell_type": "code",
   "execution_count": 21,
   "metadata": {
    "collapsed": false
   },
   "outputs": [
    {
     "data": {
      "text/plain": [
       "array([[   8617.,   84329.],\n",
       "       [  17543.,  105807.],\n",
       "       [   1607.,    9248.],\n",
       "       [   2123.,    9690.],\n",
       "       [   8761.,   31088.],\n",
       "       [   4438.,   15462.],\n",
       "       [   2884.,   10038.],\n",
       "       [   4131.,   13996.],\n",
       "       [   2410.,    7831.],\n",
       "       [   2802.,    9068.],\n",
       "       [   3278.,   10570.],\n",
       "       [   3818.,   12108.],\n",
       "       [   4894.,   15433.],\n",
       "       [   6076.,   19101.],\n",
       "       [   2949.,    8882.],\n",
       "       [   3812.,   11281.],\n",
       "       [  13966.,   40910.],\n",
       "       [   2861.,    8379.],\n",
       "       [   2997.,    8769.],\n",
       "       [   6278.,   18164.],\n",
       "       [   2819.,    7917.],\n",
       "       [   4203.,   11774.],\n",
       "       [   3750.,   10508.],\n",
       "       [   4842.,   13471.],\n",
       "       [   7645.,   20943.],\n",
       "       [   4435.,   12152.],\n",
       "       [   3204.,    8747.],\n",
       "       [  10373.,   28135.],\n",
       "       [   3381.,    8996.],\n",
       "       [   6355.,   16571.],\n",
       "       [   3570.,    9148.],\n",
       "       [   7118.,   17646.],\n",
       "       [   3777.,    9214.],\n",
       "       [   5630.,   13548.],\n",
       "       [   5557.,   13190.],\n",
       "       [   4372.,   10116.],\n",
       "       [   4136.,    9449.],\n",
       "       [   3077.,    7005.],\n",
       "       [   7391.,   16493.],\n",
       "       [   3612.,    7590.],\n",
       "       [  10153.,   21225.],\n",
       "       [   9080.,   18456.],\n",
       "       [   3531.,    7149.],\n",
       "       [   6513.,   13132.],\n",
       "       [   6748.,   13567.],\n",
       "       [   4016.,    7963.],\n",
       "       [  14673.,   28445.],\n",
       "       [   6499.,   12573.],\n",
       "       [   7725.,   14869.],\n",
       "       [  11787.,   22612.],\n",
       "       [   9993.,     633.],\n",
       "       [   3949.,    7573.],\n",
       "       [   3581.,    6791.],\n",
       "       [   5225.,    9638.],\n",
       "       [  11022.,   20253.],\n",
       "       [   6675.,   12264.],\n",
       "       [  34257.,   62223.],\n",
       "       [  16684.,   30340.],\n",
       "       [   7045.,   12682.],\n",
       "       [  11791.,     879.],\n",
       "       [  26908.,    2028.],\n",
       "       [  33714.,   59925.],\n",
       "       [   4092.,    7303.],\n",
       "       [   3712.,    6591.],\n",
       "       [   5009.,    8882.],\n",
       "       [  24480.,    1948.],\n",
       "       [   4039.,    7102.],\n",
       "       [  29380.,    2356.],\n",
       "       [   6184.,   10826.],\n",
       "       [  27185.,    2186.],\n",
       "       [  18740.,   32635.],\n",
       "       [  30259.,    2445.],\n",
       "       [  43254.,    3528.],\n",
       "       [   7860.,   13529.],\n",
       "       [   4915.,    8465.],\n",
       "       [  12618.,    1056.],\n",
       "       [   4004.,    6810.],\n",
       "       [  17187.,   28632.],\n",
       "       [   6054.,   10108.],\n",
       "       [   5096.,    8475.],\n",
       "       [   5908.,    9797.],\n",
       "       [  58006.,    5298.],\n",
       "       [  35782.,    3346.],\n",
       "       [   4773.,    7811.],\n",
       "       [   8293.,   13444.],\n",
       "       [  26332.,    2539.],\n",
       "       [  11372.,    1103.],\n",
       "       [  14594.,   23210.],\n",
       "       [   5810.,    9212.],\n",
       "       [   3918.,    6215.],\n",
       "       [   4898.,    7699.],\n",
       "       [  15648.,    1586.],\n",
       "       [  12586.,    1278.],\n",
       "       [  17272.,    1763.],\n",
       "       [  16161.,    1651.],\n",
       "       [  15512.,    1591.],\n",
       "       [  10133.,    1040.],\n",
       "       [   6816.,   10597.],\n",
       "       [  14137.,    1462.],\n",
       "       [   6227.,    9670.],\n",
       "       [  21759.,    2296.],\n",
       "       [  13318.,    1402.],\n",
       "       [  32741.,    3473.],\n",
       "       [   4971.,    7654.],\n",
       "       [   4991.,    7665.],\n",
       "       [   9805.,    1039.],\n",
       "       [  10174.,    1080.],\n",
       "       [  12087.,    1285.],\n",
       "       [  73068.,  110803.],\n",
       "       [  13087.,   19903.],\n",
       "       [  16361.,    1764.],\n",
       "       [   8424.,   12793.],\n",
       "       [  15521.,   23502.],\n",
       "       [   5385.,    8186.],\n",
       "       [  13237.,   19993.],\n",
       "       [  32465.,    3575.],\n",
       "       [  15235.,    1671.],\n",
       "       [  27329.,    3016.],\n",
       "       [   9043.,     990.],\n",
       "       [  12645.,    1390.],\n",
       "       [   6169.,    9265.],\n",
       "       [  23332.,   34714.],\n",
       "       [  53615.,    6078.],\n",
       "       [  14432.,    1624.],\n",
       "       [  21116.,    2386.],\n",
       "       [  10197.,    1147.],\n",
       "       [   5279.,    7837.],\n",
       "       [   9287.,    1051.],\n",
       "       [  44732.,   65726.],\n",
       "       [   4165.,    6170.],\n",
       "       [   4697.,    6926.],\n",
       "       [   6682.,    9798.],\n",
       "       [   8367.,   12238.],\n",
       "       [  10328.,    1198.],\n",
       "       [  68631.,   99426.],\n",
       "       [  21864.,    2559.],\n",
       "       [  19865.,   28900.],\n",
       "       [  23098.,    2719.],\n",
       "       [  15346.,    1806.],\n",
       "       [   9655.,   13999.],\n",
       "       [  10127.,    1193.],\n",
       "       [   7041.,   10216.],\n",
       "       [  24646.,   35520.],\n",
       "       [   8382.,   12129.],\n",
       "       [  11856.,    1407.],\n",
       "       [  10891.,   15727.],\n",
       "       [   9949.,    1183.],\n",
       "       [   8410.,   12133.],\n",
       "       [  11533.,    1375.],\n",
       "       [  12681.,   18250.],\n",
       "       [   6135.,    8850.],\n",
       "       [   9676.,   13916.],\n",
       "       [  17502.,    2104.],\n",
       "       [  13745.,   19711.],\n",
       "       [  15712.,    1909.],\n",
       "       [  10077.,    1221.],\n",
       "       [  10234.,   14612.],\n",
       "       [  13050.,    1587.],\n",
       "       [  15103.,   21420.],\n",
       "       [  11053.,   15686.],\n",
       "       [  21921.,   30996.],\n",
       "       [   9788.,    1214.],\n",
       "       [   5902.,    8339.],\n",
       "       [  17706.,    2210.],\n",
       "       [  11391.,   16032.],\n",
       "       [  15326.,    1913.],\n",
       "       [  11380.,    1428.],\n",
       "       [   8932.,    1119.],\n",
       "       [   8979.,    1127.],\n",
       "       [   4410.,    6194.],\n",
       "       [  38253.,    4860.],\n",
       "       [  48023.,   66755.],\n",
       "       [   5474.,    7646.],\n",
       "       [   5878.,    8195.],\n",
       "       [  11277.,   15646.],\n",
       "       [  12595.,    1612.],\n",
       "       [  14560.,    1867.],\n",
       "       [  14615.,   20236.],\n",
       "       [  22443.,   30955.],\n",
       "       [   7317.,   10129.],\n",
       "       [  13031.,    1689.],\n",
       "       [  14647.,   20141.],\n",
       "       [  32570.,    4256.],\n",
       "       [  22148.,   30396.],\n",
       "       [  11768.,    1533.],\n",
       "       [  12452.,    1623.],\n",
       "       [  10362.,    1349.],\n",
       "       [  18709.,   25608.],\n",
       "       [   9091.,    1186.],\n",
       "       [  10835.,    1416.],\n",
       "       [  57533.,    7623.],\n",
       "       [   8901.,    1169.],\n",
       "       [  13196.,    1749.],\n",
       "       [   5352.,    7296.],\n",
       "       [   5055.,    6882.],\n",
       "       [  20373.,    2725.],\n",
       "       [  12840.,    1723.],\n",
       "       [  92933.,  124385.],\n",
       "       [  12464.,   16780.],\n",
       "       [  11580.,    1563.],\n",
       "       [  15462.,    2106.],\n",
       "       [   4434.,    5967.],\n",
       "       [  22149.,    3029.],\n",
       "       [  27525.,   36647.],\n",
       "       [  14106.,    1936.],\n",
       "       [   6591.,    8779.],\n",
       "       [  39601.,   52249.],\n",
       "       [  11139.,    1557.],\n",
       "       [  19365.,    2728.],\n",
       "       [  10260.,    1444.],\n",
       "       [   9101.,   11914.],\n",
       "       [  16512.,    2356.],\n",
       "       [   6246.,    8170.],\n",
       "       [  11894.,   15515.],\n",
       "       [  10447.,    1489.],\n",
       "       [   4686.,    6125.],\n",
       "       [  10692.,    1537.],\n",
       "       [   4945.,    6426.],\n",
       "       [   6857.,    8872.],\n",
       "       [  22306.,   28704.],\n",
       "       [  22735.,    3323.],\n",
       "       [  16406.,    2395.],\n",
       "       [  15897.,   20459.],\n",
       "       [  19442.,   24947.],\n",
       "       [   9840.,    1441.],\n",
       "       [  85883.,  109187.],\n",
       "       [  17675.,    2606.],\n",
       "       [  14063.,    2070.],\n",
       "       [   9688.,    1426.],\n",
       "       [  11862.,    1750.],\n",
       "       [  25994.,   33102.],\n",
       "       [  18144.,    2692.],\n",
       "       [  12743.,    1889.],\n",
       "       [  10110.,    1498.],\n",
       "       [  52578.,   66569.],\n",
       "       [   5689.,    7270.],\n",
       "       [   9258.,    1378.],\n",
       "       [   8923.,   11353.],\n",
       "       [  12969.,    1941.],\n",
       "       [  38942.,   49123.],\n",
       "       [  88245.,  110881.],\n",
       "       [   8709.,   11051.],\n",
       "       [  13681.,    2057.],\n",
       "       [  69002.,   86597.],\n",
       "       [   7696.,    9746.],\n",
       "       [   6778.,    8582.],\n",
       "       [  15336.,   19342.],\n",
       "       [  10041.,    1513.],\n",
       "       [  11417.,    1723.],\n",
       "       [   9761.,    1473.],\n",
       "       [  22959.,    3492.],\n",
       "       [  10936.,    1661.],\n",
       "       [  13247.,   16640.],\n",
       "       [ 120021.,  149016.],\n",
       "       [  62328.,   77359.],\n",
       "       [   8261.,   10339.],\n",
       "       [  14466.,    2224.],\n",
       "       [  10698.,   13354.],\n",
       "       [   5013.,    6269.],\n",
       "       [   9726.,   12105.],\n",
       "       [  11720.,   14567.],\n",
       "       [   9198.,    1423.],\n",
       "       [  10358.,   12867.],\n",
       "       [  21629.,    3378.],\n",
       "       [   9895.,   12251.],\n",
       "       [  40696.,    6440.],\n",
       "       [  21432.,   26365.],\n",
       "       [   9106.,    1427.],\n",
       "       [   4907.,    6070.],\n",
       "       [  27839.,    4402.],\n",
       "       [  33942.,   41606.],\n",
       "       [  41479.,    6588.],\n",
       "       [  18699.,   22956.],\n",
       "       [   8976.,    1414.],\n",
       "       [  20939.,   25634.],\n",
       "       [  12651.,    2005.],\n",
       "       [  39686.,    6359.],\n",
       "       [   8735.,    1385.],\n",
       "       [  10007.,    1593.],\n",
       "       [  90223.,  109189.],\n",
       "       [   5964.,    7295.],\n",
       "       [  16266.,    2614.],\n",
       "       [  11283.,   13722.],\n",
       "       [  82610.,   99562.],\n",
       "       [   4979.,    6072.],\n",
       "       [  11781.,   14288.],\n",
       "       [  12362.,   14986.],\n",
       "       [   6339.,    7689.],\n",
       "       [  15793.,    2565.],\n",
       "       [   9551.,    1547.],\n",
       "       [   8832.,    1432.],\n",
       "       [   4774.,    5784.],\n",
       "       [   6776.,    8185.],\n",
       "       [  19841.,    3263.],\n",
       "       [  10307.,    1689.],\n",
       "       [ 202630.,  239641.],\n",
       "       [  22063.,    3651.],\n",
       "       [  10264.,    1690.],\n",
       "       [  20252.,    3352.],\n",
       "       [  22841.,    3793.]])"
      ]
     },
     "execution_count": 21,
     "metadata": {},
     "output_type": "execute_result"
    }
   ],
   "source": [
    "freq_gender"
   ]
  },
  {
   "cell_type": "code",
   "execution_count": 119,
   "metadata": {
    "collapsed": false
   },
   "outputs": [
    {
     "data": {
      "image/png": "[encoded data removed]",
      "text/plain": [
       "<matplotlib.figure.Figure at 0x7fc4498c5990>"
      ]
     },
     "metadata": {},
     "output_type": "display_data"
    }
   ],
   "source": [
    "figure()\n",
    "plot(range(len(losses)), losses)\n",
    "show()"
   ]
  },
  {
   "cell_type": "code",
   "execution_count": 231,
   "metadata": {
    "collapsed": false
   },
   "outputs": [],
   "source": [
    "'''\n",
    "The function which tries to predict a user.\n",
    "'''\n",
    "\n",
    "def predict(batch):\n",
    "#     cur_gender, cur_age = np.zeros(2), np.zeros(7) # all_gender / sum(all_gender), all_age / sum(all_age)\n",
    "    n = len(batch)\n",
    "    X = np.zeros((n, 2000))\n",
    "    \n",
    "    for i, user_id in enumerate(batch):\n",
    "        x, _ = get_features(user_id)\n",
    "        X[i] = x\n",
    "    cur_gender = model_gender.predict(sess, X)\n",
    "    cur_age = model_age.predict(sess, X)\n",
    "    for i in range(n):\n",
    "        if sum(X[i]) == 0:\n",
    "            cur_gender[i] = all_gender\n",
    "            cur_age[i] = all_age\n",
    "    return cur_gender, cur_age\n"
   ]
  },
  {
   "cell_type": "code",
   "execution_count": 142,
   "metadata": {
    "collapsed": false
   },
   "outputs": [],
   "source": [
    "# load testset data\n",
    "\n",
    "testset = []\n",
    "with open('contest_testset/testset000000_0') as file_test:\n",
    "    for x in file_test.readlines():\n",
    "        testset += [x[:-1]]\n",
    "\n",
    "freqs = np.load(\"all_dist.npy\").item()\n",
    "all_gender = freqs['gender']\n",
    "all_age = freqs['age']\n",
    " "
   ]
  },
  {
   "cell_type": "code",
   "execution_count": 237,
   "metadata": {
    "collapsed": false
   },
   "outputs": [
    {
     "name": "stdout",
     "output_type": "stream",
     "text": [
      "10000\n",
      "20000\n",
      "30000\n",
      "40000\n",
      "50000\n",
      "60000\n",
      "70000\n",
      "80000\n",
      "90000\n",
      "100000\n",
      "110000\n",
      "120000\n",
      "130000\n",
      "140000\n",
      "150000\n",
      "160000\n",
      "170000\n",
      "180000\n",
      "190000\n",
      "200000\n",
      "210000\n",
      "220000\n",
      "230000\n",
      "240000\n",
      "250000\n",
      "260000\n",
      "270000\n",
      "280000\n",
      "290000\n",
      "300000\n",
      "310000\n",
      "320000\n",
      "330000\n",
      "340000\n",
      "350000\n",
      "360000\n",
      "370000\n",
      "380000\n",
      "390000\n",
      "400000\n",
      "410000\n",
      "420000\n",
      "430000\n",
      "440000\n",
      "450000\n",
      "460000\n",
      "470000\n",
      "480000\n",
      "490000\n",
      "500000\n",
      "510000\n",
      "520000\n",
      "530000\n",
      "540000\n",
      "550000\n",
      "560000\n",
      "570000\n",
      "580000\n",
      "590000\n",
      "600000\n",
      "610000\n",
      "620000\n",
      "630000\n",
      "640000\n",
      "650000\n",
      "660000\n",
      "670000\n",
      "680000\n",
      "690000\n",
      "700000\n",
      "710000\n",
      "720000\n",
      "730000\n",
      "740000\n",
      "750000\n",
      "760000\n",
      "770000\n",
      "780000\n",
      "790000\n",
      "800000\n",
      "810000\n",
      "820000\n",
      "830000\n",
      "840000\n",
      "850000\n",
      "860000\n",
      "870000\n",
      "880000\n",
      "890000\n",
      "900000\n",
      "910000\n",
      "920000\n",
      "930000\n",
      "940000\n",
      "950000\n",
      "960000\n",
      "970000\n",
      "980000\n",
      "990000\n",
      "1000000\n"
     ]
    }
   ],
   "source": [
    "'''\n",
    "write a new CSV.\n",
    "'''\n",
    "\n",
    "D = []\n",
    "xxx = 0\n",
    "\n",
    "def test(predict, filename):\n",
    "    with open(filename, 'w') as fout:\n",
    "        print >> fout, 'user_id,gender_1,gender_2,age_g1,age_g2,age_g3,age_g4,age_5,age_g6,age_7'\n",
    "        cnt = 0\n",
    "        B = 128\n",
    "        for b in range((len(testset) + B - 1) // (B)):\n",
    "            current_batch = testset[b * B:(b + 1) * B]\n",
    "\n",
    "            pred_gender, pred_age = predict(current_batch)\n",
    "            for i, user_id in enumerate(current_batch):\n",
    "                cnt += 1\n",
    "                if cnt % 10000 == 0:\n",
    "                    print cnt\n",
    "            \n",
    "                cur_gender, cur_age = pred_gender[i], pred_age[i]\n",
    "\n",
    "                print >> fout, '%s,%.6f,%.6f,%.6f,%.6f,%.6f,%.6f,%.6f,%.6f,%.6f' % (user_id, cur_gender[0], cur_gender[1], cur_age[0], cur_age[1], cur_age[2], cur_age[3], cur_age[4], cur_age[5], cur_age[6])\n",
    "\n",
    "test(predict, 'CloudPlatform_0921_1.csv')"
   ]
  },
  {
   "cell_type": "code",
   "execution_count": 264,
   "metadata": {
    "collapsed": false,
    "scrolled": true
   },
   "outputs": [
    {
     "ename": "ValueError",
     "evalue": "could not broadcast input array from shape (2) into shape (200)",
     "output_type": "error",
     "traceback": [
      "\u001b[0;31m---------------------------------------------------------------------------\u001b[0m",
      "\u001b[0;31mValueError\u001b[0m                                Traceback (most recent call last)",
      "\u001b[0;32m<ipython-input-264-31782e9c4dbe>\u001b[0m in \u001b[0;36m<module>\u001b[0;34m()\u001b[0m\n\u001b[1;32m     27\u001b[0m \u001b[0;34m\u001b[0m\u001b[0m\n\u001b[1;32m     28\u001b[0m \u001b[0mdevset\u001b[0m \u001b[0;34m=\u001b[0m \u001b[0mrandom\u001b[0m\u001b[0;34m.\u001b[0m\u001b[0msample\u001b[0m\u001b[0;34m(\u001b[0m\u001b[0muser_labels\u001b[0m\u001b[0;34m.\u001b[0m\u001b[0mkeys\u001b[0m\u001b[0;34m(\u001b[0m\u001b[0;34m)\u001b[0m\u001b[0;34m,\u001b[0m \u001b[0;36m100000\u001b[0m\u001b[0;34m)\u001b[0m\u001b[0;34m\u001b[0m\u001b[0m\n\u001b[0;32m---> 29\u001b[0;31m \u001b[0mcross_validate\u001b[0m\u001b[0;34m(\u001b[0m\u001b[0mdevset\u001b[0m\u001b[0;34m)\u001b[0m\u001b[0;34m\u001b[0m\u001b[0m\n\u001b[0m",
      "\u001b[0;32m<ipython-input-264-31782e9c4dbe>\u001b[0m in \u001b[0;36mcross_validate\u001b[0;34m(devset)\u001b[0m\n\u001b[1;32m     12\u001b[0m         \u001b[0mcurrent_batch\u001b[0m \u001b[0;34m=\u001b[0m \u001b[0mdevset\u001b[0m\u001b[0;34m[\u001b[0m\u001b[0mb\u001b[0m \u001b[0;34m*\u001b[0m \u001b[0mB\u001b[0m\u001b[0;34m:\u001b[0m\u001b[0;34m(\u001b[0m\u001b[0mb\u001b[0m \u001b[0;34m+\u001b[0m \u001b[0;36m1\u001b[0m\u001b[0;34m)\u001b[0m \u001b[0;34m*\u001b[0m \u001b[0mB\u001b[0m\u001b[0;34m]\u001b[0m\u001b[0;34m\u001b[0m\u001b[0m\n\u001b[1;32m     13\u001b[0m \u001b[0;34m\u001b[0m\u001b[0m\n\u001b[0;32m---> 14\u001b[0;31m         \u001b[0mpred_gender\u001b[0m\u001b[0;34m,\u001b[0m \u001b[0mpred_age\u001b[0m \u001b[0;34m=\u001b[0m \u001b[0mpredict\u001b[0m\u001b[0;34m(\u001b[0m\u001b[0mcurrent_batch\u001b[0m\u001b[0;34m)\u001b[0m\u001b[0;34m\u001b[0m\u001b[0m\n\u001b[0m\u001b[1;32m     15\u001b[0m         \u001b[0;32mfor\u001b[0m \u001b[0mi\u001b[0m\u001b[0;34m,\u001b[0m \u001b[0muser_id\u001b[0m \u001b[0;32min\u001b[0m \u001b[0menumerate\u001b[0m\u001b[0;34m(\u001b[0m\u001b[0mcurrent_batch\u001b[0m\u001b[0;34m)\u001b[0m\u001b[0;34m:\u001b[0m\u001b[0;34m\u001b[0m\u001b[0m\n\u001b[1;32m     16\u001b[0m             \u001b[0mcnt\u001b[0m \u001b[0;34m+=\u001b[0m \u001b[0;36m1\u001b[0m\u001b[0;34m\u001b[0m\u001b[0m\n",
      "\u001b[0;32m<ipython-input-231-c67ba3acddc8>\u001b[0m in \u001b[0;36mpredict\u001b[0;34m(batch)\u001b[0m\n\u001b[1;32m     15\u001b[0m     \u001b[0;32mfor\u001b[0m \u001b[0mi\u001b[0m \u001b[0;32min\u001b[0m \u001b[0mrange\u001b[0m\u001b[0;34m(\u001b[0m\u001b[0mn\u001b[0m\u001b[0;34m)\u001b[0m\u001b[0;34m:\u001b[0m\u001b[0;34m\u001b[0m\u001b[0m\n\u001b[1;32m     16\u001b[0m         \u001b[0;32mif\u001b[0m \u001b[0msum\u001b[0m\u001b[0;34m(\u001b[0m\u001b[0mX\u001b[0m\u001b[0;34m[\u001b[0m\u001b[0mi\u001b[0m\u001b[0;34m]\u001b[0m\u001b[0;34m)\u001b[0m \u001b[0;34m==\u001b[0m \u001b[0;36m0\u001b[0m\u001b[0;34m:\u001b[0m\u001b[0;34m\u001b[0m\u001b[0m\n\u001b[0;32m---> 17\u001b[0;31m             \u001b[0mcur_gender\u001b[0m\u001b[0;34m[\u001b[0m\u001b[0mi\u001b[0m\u001b[0;34m]\u001b[0m \u001b[0;34m=\u001b[0m \u001b[0mall_gender\u001b[0m\u001b[0;34m\u001b[0m\u001b[0m\n\u001b[0m\u001b[1;32m     18\u001b[0m             \u001b[0mcur_age\u001b[0m\u001b[0;34m[\u001b[0m\u001b[0mi\u001b[0m\u001b[0;34m]\u001b[0m \u001b[0;34m=\u001b[0m \u001b[0mall_age\u001b[0m\u001b[0;34m\u001b[0m\u001b[0m\n\u001b[1;32m     19\u001b[0m     \u001b[0;32mreturn\u001b[0m \u001b[0mcur_gender\u001b[0m\u001b[0;34m,\u001b[0m \u001b[0mcur_age\u001b[0m\u001b[0;34m\u001b[0m\u001b[0m\n",
      "\u001b[0;31mValueError\u001b[0m: could not broadcast input array from shape (2) into shape (200)"
     ]
    }
   ],
   "source": [
    "'''\n",
    "Cross validation on devset.\n",
    "'''\n",
    "\n",
    "def cross_validate(devset):\n",
    "    loss_age, loss_gender = 0., 0.\n",
    "    \n",
    "    cnt = 0\n",
    "    \n",
    "    B = 128\n",
    "    for b in range((len(devset) + B - 1) // (B)):\n",
    "        current_batch = devset[b * B:(b + 1) * B]\n",
    "        \n",
    "        pred_gender, pred_age = predict(current_batch)\n",
    "        for i, user_id in enumerate(current_batch):\n",
    "            cnt += 1\n",
    "            gender, age = user_labels[user_id]\n",
    "            loss_age -= log(pred_age[i][age])\n",
    "            loss_gender -= log(pred_gender[i][gender])\n",
    "            if cnt % 1000 == 0:\n",
    "                print cnt\n",
    "\n",
    "    loss_age /= len(devset)\n",
    "    loss_gender /= len(devset)\n",
    "\n",
    "    print 'loss: gender = %.6f, age = %.6f, overall = %.6f' % (loss_gender, loss_age, (loss_age + loss_gender) / 2)\n",
    "\n",
    "devset = random.sample(user_labels.keys(), 100000)\n",
    "cross_validate(devset)"
   ]
  },
  {
   "cell_type": "code",
   "execution_count": 177,
   "metadata": {
    "collapsed": false
   },
   "outputs": [
    {
     "name": "stdout",
     "output_type": "stream",
     "text": [
      "0 1\n",
      "10000 6211\n",
      "20000 12492\n",
      "30000 18802\n",
      "40000 25123\n",
      "50000 31316\n",
      "60000 37546\n",
      "70000 43877\n",
      "80000 50180\n",
      "90000 56463\n",
      "100000 62755\n"
     ]
    },
    {
     "ename": "KeyboardInterrupt",
     "evalue": "",
     "output_type": "error",
     "traceback": [
      "\u001b[0;31m---------------------------------------------------------------------------\u001b[0m",
      "\u001b[0;31mKeyboardInterrupt\u001b[0m                         Traceback (most recent call last)",
      "\u001b[0;32m<ipython-input-177-14d99e13411e>\u001b[0m in \u001b[0;36m<module>\u001b[0;34m()\u001b[0m\n\u001b[1;32m      1\u001b[0m \u001b[0museful\u001b[0m \u001b[0;34m=\u001b[0m \u001b[0;36m0\u001b[0m\u001b[0;34m\u001b[0m\u001b[0m\n\u001b[1;32m      2\u001b[0m \u001b[0;32mfor\u001b[0m \u001b[0mi\u001b[0m\u001b[0;34m,\u001b[0m \u001b[0muser_id\u001b[0m \u001b[0;32min\u001b[0m \u001b[0menumerate\u001b[0m\u001b[0;34m(\u001b[0m\u001b[0muser_labels\u001b[0m\u001b[0;34m.\u001b[0m\u001b[0miterkeys\u001b[0m\u001b[0;34m(\u001b[0m\u001b[0;34m)\u001b[0m\u001b[0;34m)\u001b[0m\u001b[0;34m:\u001b[0m\u001b[0;34m\u001b[0m\u001b[0m\n\u001b[0;32m----> 3\u001b[0;31m     \u001b[0;32mif\u001b[0m \u001b[0mnp\u001b[0m\u001b[0;34m.\u001b[0m\u001b[0msum\u001b[0m\u001b[0;34m(\u001b[0m\u001b[0mget_features\u001b[0m\u001b[0;34m(\u001b[0m\u001b[0muser_id\u001b[0m\u001b[0;34m)\u001b[0m\u001b[0;34m[\u001b[0m\u001b[0;36m0\u001b[0m\u001b[0;34m]\u001b[0m\u001b[0;34m[\u001b[0m\u001b[0;36m1000\u001b[0m\u001b[0;34m:\u001b[0m\u001b[0;34m]\u001b[0m\u001b[0;34m)\u001b[0m \u001b[0;34m!=\u001b[0m \u001b[0;36m0\u001b[0m\u001b[0;34m:\u001b[0m\u001b[0;34m\u001b[0m\u001b[0m\n\u001b[0m\u001b[1;32m      4\u001b[0m         \u001b[0museful\u001b[0m \u001b[0;34m+=\u001b[0m \u001b[0;36m1\u001b[0m\u001b[0;34m\u001b[0m\u001b[0m\n\u001b[1;32m      5\u001b[0m     \u001b[0;32mif\u001b[0m \u001b[0mi\u001b[0m \u001b[0;34m%\u001b[0m \u001b[0;36m10000\u001b[0m \u001b[0;34m==\u001b[0m \u001b[0;36m0\u001b[0m\u001b[0;34m:\u001b[0m\u001b[0;34m\u001b[0m\u001b[0m\n",
      "\u001b[0;32m<ipython-input-174-47f2a31d4db9>\u001b[0m in \u001b[0;36mget_features\u001b[0;34m(user_id)\u001b[0m\n\u001b[1;32m      6\u001b[0m     \u001b[0;32mif\u001b[0m \u001b[0muser_id\u001b[0m \u001b[0;32min\u001b[0m \u001b[0murl_features\u001b[0m\u001b[0;34m:\u001b[0m\u001b[0;34m\u001b[0m\u001b[0m\n\u001b[1;32m      7\u001b[0m         \u001b[0;32mfor\u001b[0m \u001b[0murl_id\u001b[0m \u001b[0;32min\u001b[0m \u001b[0murl_features\u001b[0m\u001b[0;34m[\u001b[0m\u001b[0muser_id\u001b[0m\u001b[0;34m]\u001b[0m\u001b[0;34m:\u001b[0m\u001b[0;34m\u001b[0m\u001b[0m\n\u001b[0;32m----> 8\u001b[0;31m             \u001b[0murl_id\u001b[0m \u001b[0;34m=\u001b[0m \u001b[0mint\u001b[0m\u001b[0;34m(\u001b[0m\u001b[0murl_id\u001b[0m\u001b[0;34m)\u001b[0m\u001b[0;34m\u001b[0m\u001b[0m\n\u001b[0m\u001b[1;32m      9\u001b[0m             \u001b[0;32mif\u001b[0m \u001b[0murl_id\u001b[0m \u001b[0;32min\u001b[0m \u001b[0mgender_url\u001b[0m\u001b[0;34m:\u001b[0m\u001b[0;34m\u001b[0m\u001b[0m\n\u001b[1;32m     10\u001b[0m                 \u001b[0murl_num\u001b[0m \u001b[0;34m=\u001b[0m \u001b[0mgender_url\u001b[0m\u001b[0;34m[\u001b[0m\u001b[0murl_id\u001b[0m\u001b[0;34m]\u001b[0m\u001b[0;34m\u001b[0m\u001b[0m\n",
      "\u001b[0;31mKeyboardInterrupt\u001b[0m: "
     ]
    }
   ],
   "source": [
    "useful = 0\n",
    "for i, user_id in enumerate(user_labels.iterkeys()):\n",
    "    if np.sum(get_features(user_id)[0][1000:]) != 0:\n",
    "        useful += 1\n",
    "    if i % 10000 == 0:\n",
    "        print i, useful"
   ]
  },
  {
   "cell_type": "code",
   "execution_count": 150,
   "metadata": {
    "collapsed": false
   },
   "outputs": [
    {
     "data": {
      "text/plain": [
       "['3ecdc76fa6fa5fb6286f99c505909427',\n",
       " '2dfb68cda5855e085595a096a59c8e25',\n",
       " 'b49a28db511b54d20e847f792b994f34',\n",
       " 'c506cc4659900717eb51208606ab6174',\n",
       " 'a1c7fc6042ab5364eca1e78c40b78658',\n",
       " '9e0acfe44af5e373b2756cfcc7e526a5',\n",
       " '5682e41be84ffd1a728357706a71fda3',\n",
       " '67d23d4e92663c4594003d6dd5fd020e',\n",
       " 'b900cffe07789bebe8e8b8efc2b4aecf',\n",
       " 'b78ef6a72804c0652484fc68890f593b']"
      ]
     },
     "execution_count": 150,
     "metadata": {},
     "output_type": "execute_result"
    }
   ],
   "source": [
    "user_labels.keys()[:10]"
   ]
  },
  {
   "cell_type": "code",
   "execution_count": 161,
   "metadata": {
    "collapsed": false
   },
   "outputs": [
    {
     "data": {
      "text/plain": [
       "['44537e9bd936253cce232bde74ed4e84',\n",
       " 'c088c93bad9b04fc3248ddbdf67cad6e',\n",
       " 'f8193c9424248872c03deb7cc735a645',\n",
       " '39f6d15e01b219817bd48285523b12cf']"
      ]
     },
     "execution_count": 161,
     "metadata": {},
     "output_type": "execute_result"
    }
   ],
   "source": [
    "app_features[\"3ecdc76fa6fa5fb6286f99c505909427\"]"
   ]
  },
  {
   "cell_type": "code",
   "execution_count": 226,
   "metadata": {
    "collapsed": false
   },
   "outputs": [
    {
     "data": {
      "text/plain": [
       "128128"
      ]
     },
     "execution_count": 226,
     "metadata": {},
     "output_type": "execute_result"
    }
   ],
   "source": [
    "len(ids)"
   ]
  },
  {
   "cell_type": "code",
   "execution_count": null,
   "metadata": {
    "collapsed": true
   },
   "outputs": [],
   "source": []
  }
 ],
 "metadata": {
  "kernelspec": {
   "display_name": "Python 2",
   "language": "python",
   "name": "python2"
  },
  "language_info": {
   "codemirror_mode": {
    "name": "ipython",
    "version": 2
   },
   "file_extension": ".py",
   "mimetype": "text/x-python",
   "name": "python",
   "nbconvert_exporter": "python",
   "pygments_lexer": "ipython2",
   "version": "2.7.12"
  }
 },
 "nbformat": 4,
 "nbformat_minor": 1
}
