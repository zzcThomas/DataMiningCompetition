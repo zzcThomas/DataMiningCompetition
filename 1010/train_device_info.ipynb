{
 "cells": [
  {
   "cell_type": "code",
   "execution_count": 20,
   "metadata": {
    "collapsed": true
   },
   "outputs": [],
   "source": [
    "%matplotlib inline"
   ]
  },
  {
   "cell_type": "code",
   "execution_count": 21,
   "metadata": {
    "collapsed": true
   },
   "outputs": [],
   "source": [
    "# import tensorflow as tf\n",
    "from math import *\n",
    "import numpy as np\n",
    "from random import shuffle\n",
    "from pylab import *\n",
    "from multiprocessing import Pool"
   ]
  },
  {
   "cell_type": "code",
   "execution_count": 38,
   "metadata": {
    "collapsed": false
   },
   "outputs": [
    {
     "name": "stdout",
     "output_type": "stream",
     "text": [
      "12439408\n"
     ]
    }
   ],
   "source": [
    "\n",
    "def device_info_load():\n",
    "    device_models = {}\n",
    "    \n",
    "    for fn in ['contest_dataset_app_device/device000000_0', 'contest_dataset_app_device/device000001_0']: \n",
    "        with open(fn) as file_device:\n",
    "            models = {}\n",
    "            while True:\n",
    "                x = file_device.readline()\n",
    "                if len(x) == 0:\n",
    "                    break\n",
    "                user_id, device_model, device_grand = x.split()\n",
    "                device_models[user_id] = device_model\n",
    "                \n",
    "    return device_models\n",
    "\n",
    "device_models = device_info_load()\n",
    "print len(device_models)"
   ]
  },
  {
   "cell_type": "code",
   "execution_count": 35,
   "metadata": {
    "collapsed": false
   },
   "outputs": [
    {
     "name": "stdout",
     "output_type": "stream",
     "text": [
      "11439408\n"
     ]
    }
   ],
   "source": [
    "from random import shuffle\n",
    "\n",
    "def read_user_labels():\n",
    "    user_labels = {}\n",
    "\n",
    "    for fn in ['contest_dataset_label/label000000_0', 'contest_dataset_label/label000001_0']:\n",
    "        with open(fn) as file_user_label:\n",
    "            lines = file_user_label.readlines()\n",
    "            shuffle(lines)\n",
    "            for i, x in enumerate(lines):\n",
    "                user_id, gender, user_age = x.split()\n",
    "                user_labels[user_id] = [gender, user_age]\n",
    "\n",
    "    return user_labels\n",
    "\n",
    "user_labels = read_user_labels()\n",
    "print len(user_labels)"
   ]
  },
  {
   "cell_type": "code",
   "execution_count": 40,
   "metadata": {
    "collapsed": false
   },
   "outputs": [],
   "source": [
    "#freq_gender = np.zeros((250, 250), np.float32)\n",
    "#freq_age = np.zeros((250, 250), np.float32)\n",
    "freq_gender = np.zeros((250, 2), np.float32)\n",
    "freq_age = np.zeros((250, 7), np.float32)\n",
    "for user_id in user_labels.keys():\n",
    "    if user_id not in device_models:\n",
    "        continue\n",
    "    gender, age = user_labels[user_id]\n",
    "    gender = int(gender) - 1\n",
    "    age = int(age) - 1\n",
    "    device_model = int(device_models[user_id])\n",
    "    freq_gender[device_model][gender] += 1\n",
    "    freq_age[device_model][age] += 1"
   ]
  },
  {
   "cell_type": "code",
   "execution_count": 41,
   "metadata": {
    "collapsed": true
   },
   "outputs": [],
   "source": [
    "freq_gender_eps = freq_gender + 1e-6\n",
    "freq_age_eps = freq_age + 1e-6\n",
    "\n",
    "distribution_gender = freq_gender_eps / (np.sum(freq_gender_eps, axis=1, keepdims=True))\n",
    "distribution_age = freq_age_eps / (np.sum(freq_age_eps, axis=1, keepdims=True))"
   ]
  },
  {
   "cell_type": "code",
   "execution_count": 42,
   "metadata": {
    "collapsed": false
   },
   "outputs": [
    {
     "name": "stdout",
     "output_type": "stream",
     "text": [
      "3804980\n"
     ]
    }
   ],
   "source": [
    "distribution_age\n",
    "\n",
    "count = 0\n",
    "for gender, _ in user_labels.values():\n",
    "    if gender == '2':\n",
    "        count += 1\n",
    "print count\n"
   ]
  },
  {
   "cell_type": "code",
   "execution_count": 43,
   "metadata": {
    "collapsed": true
   },
   "outputs": [],
   "source": [
    "testset = []\n",
    "with open('contest_testset/testset000000_0') as file_test:\n",
    "    for x in file_test.readlines():\n",
    "        testset += [x[:-1]]\n"
   ]
  },
  {
   "cell_type": "code",
   "execution_count": 48,
   "metadata": {
    "collapsed": false
   },
   "outputs": [],
   "source": [
    "fallback_gender = np.array([0.3817514, 0.1901782])\n",
    "fallback_age = np.array([0.181793, 0.15182, 0.128824, 0.234479, 0.193585, 0.06086, 0.04864])\n",
    "fallback_gender /= np.sum(fallback_gender)\n",
    "fallback_age /= np.sum(fallback_age)\n",
    "\n",
    "def get_prediction(user_id):\n",
    "    if user_id in device_models:\n",
    "        device_model = device_models[user_id]\n",
    "        cur_gender = distribution_gender[int(device_model)]\n",
    "        cur_age = distribution_age[int(device_model)]\n",
    "    else:\n",
    "        cur_gender = fallback_gender\n",
    "        cur_age = fallback_age\n",
    "    return cur_gender, cur_age\n",
    "\n",
    "with open('output2.csv', 'w') as fout:\n",
    "    print >> fout, 'user_id,gender_1,gender_2,age_g1,age_g2,age_g3,age_g4,age_5,age_g6,age_7'\n",
    "\n",
    "    for test_id in testset:\n",
    "        cur_gender, cur_age = get_prediction(test_id)\n",
    "\n",
    "        print >> fout, '%s,%.6f,%.6f,%.6f,%.6f,%.6f,%.6f,%.6f,%.6f,%.6f' % (test_id, cur_gender[0], cur_gender[1], cur_age[0], cur_age[1], cur_age[2], cur_age[3], cur_age[4], cur_age[5], cur_age[6])"
   ]
  },
  {
   "cell_type": "code",
   "execution_count": null,
   "metadata": {
    "collapsed": true
   },
   "outputs": [],
   "source": [
    "def load_install():\n",
    "    D = {}\n",
    "    for i in range(lo, hi):\n",
    "        fn = 'contest_dataset_app_install/part-r-%05d' % (i)\n",
    "        print fn\n",
    "        with open(fn) as fin:\n",
    "            for x in fin:\n",
    "                user_id, app_id = x.split()\n",
    "                D[app_id] += 1\n",
    "    return D"
   ]
  }
 ],
 "metadata": {
  "kernelspec": {
   "display_name": "Python 2",
   "language": "python",
   "name": "python2"
  },
  "language_info": {
   "codemirror_mode": {
    "name": "ipython",
    "version": 2
   },
   "file_extension": ".py",
   "mimetype": "text/x-python",
   "name": "python",
   "nbconvert_exporter": "python",
   "pygments_lexer": "ipython2",
   "version": "2.7.12"
  }
 },
 "nbformat": 4,
 "nbformat_minor": 1
}
