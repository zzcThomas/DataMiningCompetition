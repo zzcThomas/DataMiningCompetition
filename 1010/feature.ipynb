{
 "cells": [
  {
   "cell_type": "code",
   "execution_count": 7,
   "metadata": {
    "collapsed": false
   },
   "outputs": [],
   "source": [
    "%matplotlib inline"
   ]
  },
  {
   "cell_type": "code",
   "execution_count": 8,
   "metadata": {
    "collapsed": true
   },
   "outputs": [],
   "source": [
    "import numpy as np\n",
    "from math import *\n",
    "from pylab import *\n",
    "import random\n",
    "import tensorflow as tf"
   ]
  },
  {
   "cell_type": "code",
   "execution_count": 9,
   "metadata": {
    "collapsed": true
   },
   "outputs": [],
   "source": [
    "batch_size = 256\n",
    "num_iterations = 10000001"
   ]
  },
  {
   "cell_type": "code",
   "execution_count": 4,
   "metadata": {
    "collapsed": false
   },
   "outputs": [],
   "source": [
    "# def load_item_feature(LOAD_PATH):\n",
    "#     D = {}\n",
    "#     for i in range(25):\n",
    "#         print i\n",
    "#         x = np.load(LOAD_PATH % (i))\n",
    "#         for key, val in x:\n",
    "#             if key not in D:\n",
    "#                 D[key] = []\n",
    "#             D[key] += [val]\n",
    "#     return D\n"
   ]
  },
  {
   "cell_type": "code",
   "execution_count": 5,
   "metadata": {
    "collapsed": false
   },
   "outputs": [],
   "source": [
    "# app_features = {}\n",
    "# app_features = load_item_feature(\"tmp_app_install/feature-%d.npy\")"
   ]
  },
  {
   "cell_type": "code",
   "execution_count": 6,
   "metadata": {
    "collapsed": false
   },
   "outputs": [],
   "source": [
    "# url_features = {}\n",
    "# url_features = load_item_feature(\"tmp_url/feature-%d.npy\")"
   ]
  },
  {
   "cell_type": "code",
   "execution_count": null,
   "metadata": {
    "collapsed": false
   },
   "outputs": [],
   "source": [
    "# query_features = {}\n",
    "# query_features = load_item_feature(\"tmp_query/feature-%d.npy\")"
   ]
  },
  {
   "cell_type": "code",
   "execution_count": 8,
   "metadata": {
    "collapsed": true
   },
   "outputs": [],
   "source": [
    "# def load_device_info():\n",
    "#     D = {}\n",
    "#     for i in range(2):\n",
    "#         fn = \"contest_dataset_app_device/device%06d_0\" % i\n",
    "#         with open(fn) as f:\n",
    "#             for x in f:\n",
    "#                 user_id, device_category, device_id = x.split()\n",
    "#                 D[user_id] = device_id\n",
    "#     return D\n",
    "\n",
    "# device_features = load_device_info()"
   ]
  },
  {
   "cell_type": "code",
   "execution_count": 10,
   "metadata": {
    "collapsed": false
   },
   "outputs": [
    {
     "name": "stdout",
     "output_type": "stream",
     "text": [
      "11439408\n"
     ]
    }
   ],
   "source": [
    "# get labels\n",
    "def read_user_labels():\n",
    "    user_labels = {}\n",
    "\n",
    "    for fn in ['contest_dataset_label/label000000_0', 'contest_dataset_label/label000001_0']:\n",
    "        with open(fn) as file_user_label:\n",
    "            for x in file_user_label:\n",
    "                user_id, gender, user_age = x.split()\n",
    "                user_labels[user_id] = [int(gender) - 1, int(user_age) - 1]\n",
    "\n",
    "    return user_labels\n",
    "\n",
    "user_labels = read_user_labels()\n",
    "print len(user_labels)"
   ]
  },
  {
   "cell_type": "code",
   "execution_count": 10,
   "metadata": {
    "collapsed": false
   },
   "outputs": [],
   "source": [
    "# def load_good_maps(good_path):\n",
    "#     '''\n",
    "#         Save/load good apps from file\n",
    "#     '''\n",
    "#     return np.load(good_path).item()\n",
    "\n",
    "# good_url = load_good_maps(\"tmp_url/good.npy\")\n",
    "# good_app = load_good_maps(\"tmp_app_install/good.npy\")\n",
    "# good_query = load_good_maps(\"tmp_query/good.npy\")\n",
    "# # for i in range(REG_DIM):\n",
    "# #     print good_gender_urls[i], np.sum(freq_gender[good_gender_urls[i][1]]), good_age_urls[i], np.sum(freq_age[good_age_urls[i][1]])\n",
    "\n",
    "# # figure()\n",
    "# # hist([x for x, y in gender_dists if x > 0.2], bins=40)\n",
    "# # show()\n",
    "# # print gender_dists[100]\n",
    "# # print age_dists[100]\n",
    "# # print log(7) / log(2) * 0.14591690295265844"
   ]
  },
  {
   "cell_type": "code",
   "execution_count": 11,
   "metadata": {
    "collapsed": false
   },
   "outputs": [
    {
     "name": "stdout",
     "output_type": "stream",
     "text": [
      "device\n",
      "url\n",
      "app\n",
      "query\n"
     ]
    }
   ],
   "source": [
    "import urllib2\n",
    "import socket\n",
    "\n",
    "ports = {'device': 4444, 'app': 5555, 'url': 6666, 'query': 7777}\n",
    "\n",
    "def fetch_feature_by_http(dataset, mode, user_id):\n",
    "    x = urllib2.urlopen(\"http://localhost:%d/query/%s/%s\" % (ports[dataset], mode, user_id)).read()\n",
    "    return np.fromstring(x, dtype=np.float32)\n",
    "\n",
    "sockets = {}\n",
    "for dataset, port in ports.items():\n",
    "    print dataset\n",
    "    s = socket.socket(socket.AF_INET, socket.SOCK_STREAM)\n",
    "    s.connect((\"localhost\", port))\n",
    "    sockets[dataset] = s\n",
    "\n",
    "def fetch_feature_by_socket(dataset, mode, user_id):\n",
    "    sockets[dataset].sendall(\"%s %s\" % (mode, user_id))\n",
    "    data = sockets[dataset].recv(10000)\n",
    "    return np.fromstring(data, dtype=np.float32)\n",
    "\n",
    "def get_features(mode, user_id):\n",
    "    Y = None\n",
    "    if user_id in user_labels:\n",
    "        Y = user_labels[user_id]\n",
    "    for i in range(10):\n",
    "        try:\n",
    "#             X = np.hstack(\n",
    "            X = \\\n",
    "                [\n",
    "                    fetch_feature_by_socket('url', mode, user_id),\n",
    "                    fetch_feature_by_socket('app', mode, user_id),\n",
    "                    fetch_feature_by_socket('query', mode, user_id),\n",
    "                    fetch_feature_by_socket('device', mode, user_id),\n",
    "                ]\n",
    "#             )\n",
    "            break\n",
    "        except:\n",
    "            pass\n",
    "    return X, Y"
   ]
  },
  {
   "cell_type": "code",
   "execution_count": 37,
   "metadata": {
    "collapsed": false
   },
   "outputs": [],
   "source": [
    "'''\n",
    "define model\n",
    "'''\n",
    "\n",
    "NUM_UNITS = 200\n",
    "RES_DEPTH = 18\n",
    "\n",
    "def resblock(x):\n",
    "    h = tf.contrib.layers.fully_connected(\n",
    "        inputs=tf.contrib.layers.batch_norm(tf.nn.relu(x)),\n",
    "        num_outputs=NUM_UNITS,\n",
    "#         normalizer_fn=tf.contrib.layers.batch_norm,\n",
    "#         activation_fn=tf.nn.relu,\n",
    "    )\n",
    "    y = tf.contrib.layers.fully_connected(\n",
    "        inputs=tf.contrib.layers.batch_norm(tf.nn.relu(h)),\n",
    "        num_outputs=NUM_UNITS,\n",
    "#         normalizer_fn=tf.contrib.layers.batch_norm,\n",
    "#         activation_fn=tf.nn.relu,\n",
    "    )\n",
    "    return x + y\n",
    "\n",
    "def resnet(x, depth):\n",
    "    res = tf.contrib.layers.fully_connected(\n",
    "        inputs=x, # tf.nn.dropout(x, keep_rate),\n",
    "        num_outputs=NUM_UNITS,\n",
    "        normalizer_fn=tf.contrib.layers.batch_norm,\n",
    "        activation_fn=tf.nn.relu,\n",
    "    )\n",
    "\n",
    "    for i in range(depth):\n",
    "        res = resblock(res)\n",
    "    return res\n",
    "\n",
    "class Model:\n",
    "    def __init__(self, sess, idim, odim, keep_rate, checkpoint_load, checkpoint_save):\n",
    "        \n",
    "        self.op_url = tf.placeholder(np.float32, [None, 1000])\n",
    "        self.op_app = tf.placeholder(np.float32, [None, 1000])\n",
    "        self.op_query = tf.placeholder(np.float32, [None, 1000])\n",
    "        self.op_device = tf.placeholder(np.float32, [None, 250])\n",
    "\n",
    "        self.op_Y = tf.placeholder(np.int32, [None])\n",
    "        self.keep_rate = tf.constant(keep_rate)\n",
    "        self.op_global_step = tf.Variable(1, trainable=False, name='global_step')\n",
    "        self.op_learning_rate = tf.train.exponential_decay(1e-4, self.op_global_step, 5000, 0.9) + 1e-5\n",
    "\n",
    "#         d = 4\n",
    "#         res = tf.concat(1, [resnet(self.op_url, d), resnet(self.op_app, d), resnet(self.op_query, d), resnet(self.op_device, d)])\n",
    "        res = tf.concat(1, [self.op_url, self.op_app, self.op_query, self.op_device])\n",
    "#         res = tf.concat(1, [self.op_url, self.op_app, self.op_query, self.op_device])\n",
    "        res = resnet(res, 4)\n",
    "#         self.dying = tf.reduce_sum(tf.to_int32(tf.reduce_sum(tf.to_int32(res > 1e-6), 0) == 0))\n",
    "        \n",
    "        h2 = tf.contrib.layers.fully_connected(\n",
    "            inputs=res, # tf.nn.dropout(h1, keep_rate),\n",
    "            num_outputs=odim,\n",
    "#             normalizer_fn=tf.contrib.layers.batch_norm,\n",
    "#             activation_fn=tf.nn.relu,\n",
    "        )\n",
    "        self.logits = h2\n",
    "        \n",
    "#         regularization = tf.contrib.layers.apply_regularization(tf.contrib.layers.l1_regularizer(lambda_1)) + \\\n",
    "#             tf.contrib.layers.apply_regularization(tf.contrib.layers.l2_regularizer(lambda_2))\n",
    "#         regularization = 0\n",
    "        self.op_loss = tf.reduce_mean(tf.nn.sparse_softmax_cross_entropy_with_logits(self.logits, self.op_Y))\n",
    "        \n",
    "        optimizer = tf.train.MomentumOptimizer(self.op_learning_rate, 0.9)\n",
    "        grads_and_vars = optimizer.compute_gradients(self.op_loss)\n",
    "        grads = [grad for grad, var in grads_and_vars]\n",
    "        clipped_grads, global_norm = tf.clip_by_global_norm(grads, 10)\n",
    "\n",
    "#         def clip_func(grad):\n",
    "# #             return grad\n",
    "#             return grad + tf.random_normal(tf.shape(grad), stddev=0.1 * tf.pow(tf.to_float(self.op_global_step), -0.55))\n",
    "\n",
    "#         clipped_grads_and_vars = zip([clip_func(grad) for grad in clipped_grads], [var for grad, var in grads_and_vars])\n",
    "#         self.op_train = optimizer.apply_gradients(clipped_grads_and_vars, global_step=self.op_global_step)\n",
    "#         self.op_train = optimizer.minimize(self.op_loss, global_step=self.op_global_step)\n",
    "        self.op_train = optimizer.apply_gradients(zip(clipped_grads, [var for grad, var in grads_and_vars]))\n",
    "\n",
    "#         self.op_train = optimizer.minimize(self.op_loss) # no regularization due to dropout\n",
    "        self.op_output = tf.nn.softmax(self.logits)\n",
    "        self.odim = odim\n",
    "        self.checkpoint_load = checkpoint_load\n",
    "        self.checkpoint_save = checkpoint_save\n",
    "        \n",
    "        self.saver = tf.train.Saver()\n",
    "        if checkpoint_load == None:\n",
    "            sess.run(tf.initialize_all_variables())\n",
    "        else:\n",
    "            self.saver.restore(sess, self.checkpoint_load)\n",
    "        self.history = []\n",
    "    \n",
    "    def train(self, sess, X, Y, loss=False, learning_rate=None):\n",
    "        ops = [self.op_train, self.op_loss]\n",
    "        url, app, query, device = X\n",
    "        feed_dict = {\n",
    "            self.op_url: url,\n",
    "            self.op_app: app,\n",
    "            self.op_query: query,\n",
    "            self.op_device: device,\n",
    "            self.op_Y: Y,\n",
    "        }\n",
    "        if learning_rate != None:\n",
    "            feed_dict[self.op_learning_rate] = learning_rate\n",
    "        \n",
    "        ans = sess.run(\n",
    "            ops,\n",
    "            feed_dict=feed_dict,\n",
    "        )\n",
    "        self.history += [ans[1]]\n",
    "        if len(self.history) % 1000 == 0:\n",
    "            self.saver.save(sess, self.checkpoint_save, self.op_global_step)\n",
    "        return ans[1:]\n",
    "    \n",
    "    def predict(self, sess, X):\n",
    "        return sess.run(\n",
    "            self.op_output,\n",
    "            feed_dict={\n",
    "                self.op_X: X,\n",
    "                self.keep_rate: 1,\n",
    "            }\n",
    "        )\n",
    "    \n",
    "    def plot(self):\n",
    "        figure()\n",
    "        b = len(self.history) // 300 + 1\n",
    "        n = len(self.history) // b * b\n",
    "        x = np.mean(np.array(self.history[:n]).reshape((-1, b)), axis=1)\n",
    "        plot(np.arange(len(x)) * b, np.minimum(x, log(self.odim)))\n",
    "        show()\n"
   ]
  },
  {
   "cell_type": "code",
   "execution_count": 38,
   "metadata": {
    "collapsed": false
   },
   "outputs": [],
   "source": [
    "tf.reset_default_graph()\n",
    "init = tf.initialize_all_variables()\n",
    "sess = tf.Session()\n",
    "sess.run(init)\n",
    "# model_age = Model(sess, 3250, 7, 1., None, \"model-age-2\")"
   ]
  },
  {
   "cell_type": "code",
   "execution_count": null,
   "metadata": {
    "collapsed": false
   },
   "outputs": [],
   "source": [
    "model_gender = Model(sess, 3250, 2, 1., None, \"model-gender-2\")"
   ]
  },
  {
   "cell_type": "code",
   "execution_count": null,
   "metadata": {
    "collapsed": false,
    "scrolled": false
   },
   "outputs": [
    {
     "name": "stdout",
     "output_type": "stream",
     "text": [
      "(mode = gender) #0: loss = 123085136.000000\n",
      "(mode = gender) #100: loss = 111810192.000000\n",
      "(mode = gender) #200: loss = 126407600.000000\n"
     ]
    }
   ],
   "source": [
    "'''\n",
    "train\n",
    "'''\n",
    "\n",
    "user_ids = user_labels.keys()\n",
    "def train(model, mode):\n",
    "    X = []\n",
    "    Y = np.zeros((batch_size,), dtype=np.int32)\n",
    "\n",
    "    for i in xrange(batch_size):\n",
    "        user_id = random.sample(user_ids, 1)[0]\n",
    "        x, (gender, age) = get_features(mode, user_id)\n",
    "        X += [x]\n",
    "        if mode == 'gender':\n",
    "            Y[i] = gender\n",
    "        else:\n",
    "            Y[i] = age\n",
    "#     X = np.vstack(X)\n",
    "    X = [np.vstack([x[y] for x in X]) for y in range(4)]\n",
    "\n",
    "    has_loss = T % 100 == 0\n",
    "    loss = model.train(sess, X, Y, has_loss, learning_rate=1e-3)\n",
    "    if has_loss:\n",
    "        print \"(mode = %s) #%d: loss = %.6f\" % (mode, T, loss[0])\n",
    "\n",
    "for T in xrange(num_iterations):\n",
    "    train(model_gender, 'gender')\n",
    "    #train(model_age, '                                            age')"
   ]
  },
  {
   "cell_type": "code",
   "execution_count": 152,
   "metadata": {
    "collapsed": false
   },
   "outputs": [
    {
     "data": {
      "text/plain": [
       "1"
      ]
     },
     "execution_count": 152,
     "metadata": {},
     "output_type": "execute_result"
    }
   ],
   "source": [
    "tf.train.global_step(sess, model_age.op_global_step)"
   ]
  },
  {
   "cell_type": "code",
   "execution_count": 45,
   "metadata": {
    "collapsed": false
   },
   "outputs": [
    {
     "data": {
      "image/png": "[encoded data removed]",
      "text/plain": [
       "<matplotlib.figure.Figure at 0x7fbadd2e3390>"
      ]
     },
     "metadata": {},
     "output_type": "display_data"
    }
   ],
   "source": [
    "#model_age.plot()\n",
    "model_gender.plot()\n",
    "# print sum(model_age.history[-100:]) / 100"
   ]
  },
  {
   "cell_type": "code",
   "execution_count": 136,
   "metadata": {
    "collapsed": false
   },
   "outputs": [
    {
     "data": {
      "image/png": "[encoded data removed]",
      "text/plain": [
       "<matplotlib.figure.Figure at 0x7fd1e9192f90>"
      ]
     },
     "metadata": {},
     "output_type": "display_data"
    }
   ],
   "source": [
    "model_gender.plot()"
   ]
  },
  {
   "cell_type": "markdown",
   "metadata": {},
   "source": [
    "model_gender.plot()"
   ]
  },
  {
   "cell_type": "code",
   "execution_count": 218,
   "metadata": {
    "collapsed": false
   },
   "outputs": [],
   "source": [
    "'''\n",
    "The function which tries to predict a user.\n",
    "'''\n",
    "\n",
    "def model_predict(model, sess, X):\n",
    "    url, app, query, device = X\n",
    "    feed_dict = {\n",
    "        model.op_url: url,\n",
    "        model.op_app: app,\n",
    "        model.op_query: query,\n",
    "        model.op_device: device,\n",
    "    }\n",
    "    return sess.run(\n",
    "        model.op_output,\n",
    "        feed_dict=feed_dict\n",
    "    )\n",
    "    \n",
    "\n",
    "def predict(mode, batch):\n",
    "#     cur_gender, cur_age = np.zeros(2), np.zeros(7) # all_gender / sum(all_gender), all_age / sum(all_age)\n",
    "    n = len(batch)\n",
    "    X = []\n",
    "    \n",
    "    for i, user_id in enumerate(batch):\n",
    "        x, _ = get_features(mode, user_id)\n",
    "        X += [x]\n",
    "#     X = np.vstack(X)\n",
    "    X = [np.vstack([x[y] for x in X]) for y in range(4)]\n",
    "    if mode == 'gender':\n",
    "        return model_predict(model_gender, sess, X)\n",
    "    return model_predict(model_age, sess, X)\n"
   ]
  },
  {
   "cell_type": "code",
   "execution_count": 219,
   "metadata": {
    "collapsed": false
   },
   "outputs": [],
   "source": [
    "# load testset data\n",
    "\n",
    "testset = []\n",
    "with open('contest_testset/testset000000_0') as file_test:\n",
    "    for x in file_test.readlines():\n",
    "        testset += [x[:-1]]\n",
    "\n",
    "freqs = np.load(\"all_dist.npy\").item()\n",
    "all_gender = freqs['gender']\n",
    "all_age = freqs['age']\n",
    " "
   ]
  },
  {
   "cell_type": "code",
   "execution_count": 124,
   "metadata": {
    "collapsed": false,
    "scrolled": true
   },
   "outputs": [
    {
     "name": "stdout",
     "output_type": "stream",
     "text": [
      "10000\n",
      "20000\n",
      "30000\n",
      "40000\n",
      "50000\n",
      "60000\n",
      "70000\n",
      "80000\n",
      "90000\n",
      "100000\n",
      "110000\n",
      "120000\n",
      "130000\n",
      "140000\n",
      "150000\n",
      "160000\n",
      "170000\n",
      "180000\n",
      "190000\n",
      "200000\n",
      "210000\n",
      "220000\n",
      "230000\n",
      "240000\n",
      "250000\n",
      "260000\n",
      "270000\n",
      "280000\n",
      "290000\n",
      "300000\n",
      "310000\n",
      "320000\n",
      "330000\n",
      "340000\n",
      "350000\n",
      "360000\n",
      "370000\n",
      "380000\n",
      "390000\n",
      "400000\n",
      "410000\n",
      "420000\n",
      "430000\n",
      "440000\n",
      "450000\n",
      "460000\n",
      "470000\n",
      "480000\n",
      "490000\n",
      "500000\n",
      "510000\n",
      "520000\n",
      "530000\n",
      "540000\n",
      "550000\n",
      "560000\n",
      "570000\n",
      "580000\n",
      "590000\n",
      "600000\n",
      "610000\n",
      "620000\n",
      "630000\n",
      "640000\n",
      "650000\n",
      "660000\n",
      "670000\n",
      "680000\n",
      "690000\n",
      "700000\n",
      "710000\n",
      "720000\n",
      "730000\n",
      "740000\n",
      "750000\n",
      "760000\n",
      "770000\n",
      "780000\n",
      "790000\n",
      "800000\n",
      "810000\n",
      "820000\n",
      "830000\n",
      "840000\n",
      "850000\n",
      "860000\n",
      "870000\n",
      "880000\n",
      "890000\n",
      "900000\n",
      "910000\n",
      "920000\n",
      "930000\n",
      "940000\n",
      "950000\n",
      "960000\n",
      "970000\n",
      "980000\n",
      "990000\n",
      "1000000\n"
     ]
    }
   ],
   "source": [
    "'''\n",
    "write a new CSV.\n",
    "'''\n",
    "\n",
    "D = []\n",
    "xxx = 0\n",
    "\n",
    "def test(predict, filename):\n",
    "    with open(filename, 'w') as fout:\n",
    "        print >> fout, 'user_id,gender_1,gender_2,age_g1,age_g2,age_g3,age_g4,age_5,age_g6,age_7'\n",
    "        cnt = 0\n",
    "        B = 128\n",
    "        for b in range((len(testset) + B - 1) // (B)):\n",
    "            current_batch = testset[b * B:(b + 1) * B]\n",
    "\n",
    "#             pred_gender = predict('gender', current_batch)\n",
    "            pred_gender = np.ones([len(current_batch), 2])\n",
    "            pred_age = predict('age', current_batch)\n",
    "            for i, user_id in enumerate(current_batch):\n",
    "                cnt += 1\n",
    "                if cnt % 10000 == 0:\n",
    "                    print cnt\n",
    "            \n",
    "                cur_gender, cur_age = pred_gender[i], pred_age[i]\n",
    "\n",
    "                print >> fout, '%s,%.9f,%.9f,%.9f,%.9f,%.9f,%.9f,%.9f,%.9f,%.9f' % (user_id, cur_gender[0], cur_gender[1], cur_age[0], cur_age[1], cur_age[2], cur_age[3], cur_age[4], cur_age[5], cur_age[6])\n",
    "\n",
    "test(predict, 'CloudPlatform_1009_2.csv')"
   ]
  },
  {
   "cell_type": "code",
   "execution_count": 228,
   "metadata": {
    "collapsed": false,
    "scrolled": true
   },
   "outputs": [
    {
     "name": "stdout",
     "output_type": "stream",
     "text": [
      "10000\n",
      "20000\n",
      "30000\n",
      "40000\n",
      "50000\n",
      "60000\n",
      "70000\n",
      "80000\n",
      "90000\n",
      "100000\n",
      "loss: gender = 0.469789\n"
     ]
    }
   ],
   "source": [
    "'''\n",
    "Cross validation on devset.\n",
    "'''\n",
    "\n",
    "def cross_validate(devset):\n",
    "    loss_age, loss_gender = 0., 0.\n",
    "    \n",
    "    cnt = 0\n",
    "    \n",
    "    B = 128\n",
    "    for b in range((len(devset) + B - 1) // (B)):\n",
    "        current_batch = devset[b * B:(b + 1) * B]\n",
    "        \n",
    "        #pred_age = predict('age', current_batch)\n",
    "        pred_gender = predict('gender', current_batch)\n",
    "        for i, user_id in enumerate(current_batch):\n",
    "            cnt += 1\n",
    "            gender, age = user_labels[user_id]\n",
    "            #loss_age -= log(pred_age[i][age] + 1e-10)\n",
    "            loss_gender -= log(pred_gender[i][gender] + 1e-10)\n",
    "            if cnt % 10000 == 0:\n",
    "                print cnt\n",
    "\n",
    "#    loss_age /= len(devset)\n",
    "    loss_gender /= len(devset)\n",
    "    print 'loss: gender = %.6f' % (loss_gender)\n",
    "#    print 'loss: age = %.6f' % (loss_age)\n",
    "\n",
    "devset = random.sample(user_labels.keys(), 100000)\n",
    "cross_validate(devset)"
   ]
  },
  {
   "cell_type": "code",
   "execution_count": 22,
   "metadata": {
    "collapsed": false
   },
   "outputs": [
    {
     "name": "stdout",
     "output_type": "stream",
     "text": [
      "1 0 ec87fa14f5ffbd1796c2d91d2fbede11\n",
      "10001 8709 3c91267ccd7c5baa9d73a8ca751d5901\n",
      "20001 17439 1c8e5cf3b5207ee2d33af40d588c0824\n",
      "30001 26152 3d4a6dc19e5d211f11dbafa6691deb61\n",
      "40001 34830 2496b5aa7fd6239243af8b12645320b0\n",
      "50001 43545 f00459d4009247f914498a5adb3df858\n",
      "60001 52253 39a55dbd69d646df20196a40cf64b8fe\n",
      "70001 61012 5185a60762201ed3869726a14a0920f0\n",
      "80001 69691 aa04a92aa6d4d0f635143b9ac84e0e82\n",
      "90001 78433 30d22dd7da7d2710435f37130d379885\n"
     ]
    },
    {
     "ename": "KeyboardInterrupt",
     "evalue": "",
     "output_type": "error",
     "traceback": [
      "\u001b[0;31m---------------------------------------------------------------------------\u001b[0m",
      "\u001b[0;31mKeyboardInterrupt\u001b[0m                         Traceback (most recent call last)",
      "\u001b[0;32m<ipython-input-22-613ad7ad03c3>\u001b[0m in \u001b[0;36m<module>\u001b[0;34m()\u001b[0m\n\u001b[1;32m      1\u001b[0m \u001b[0museful\u001b[0m \u001b[0;34m=\u001b[0m \u001b[0;36m0\u001b[0m\u001b[0;34m\u001b[0m\u001b[0m\n\u001b[1;32m      2\u001b[0m \u001b[0;32mfor\u001b[0m \u001b[0mi\u001b[0m\u001b[0;34m,\u001b[0m \u001b[0muser_id\u001b[0m \u001b[0;32min\u001b[0m \u001b[0menumerate\u001b[0m\u001b[0;34m(\u001b[0m\u001b[0mtestset\u001b[0m\u001b[0;34m)\u001b[0m\u001b[0;34m:\u001b[0m \u001b[0;31m# enumerate(testset.iterkeys()):\u001b[0m\u001b[0;34m\u001b[0m\u001b[0m\n\u001b[0;32m----> 3\u001b[0;31m     \u001b[0;32mif\u001b[0m \u001b[0mnp\u001b[0m\u001b[0;34m.\u001b[0m\u001b[0msum\u001b[0m\u001b[0;34m(\u001b[0m\u001b[0mget_features\u001b[0m\u001b[0;34m(\u001b[0m\u001b[0;34m'age'\u001b[0m\u001b[0;34m,\u001b[0m \u001b[0muser_id\u001b[0m\u001b[0;34m)\u001b[0m\u001b[0;34m[\u001b[0m\u001b[0;36m0\u001b[0m\u001b[0;34m]\u001b[0m\u001b[0;34m[\u001b[0m\u001b[0;34m:\u001b[0m\u001b[0;36m3000\u001b[0m\u001b[0;34m]\u001b[0m\u001b[0;34m)\u001b[0m \u001b[0;34m!=\u001b[0m \u001b[0;36m0\u001b[0m\u001b[0;34m:\u001b[0m\u001b[0;34m\u001b[0m\u001b[0m\n\u001b[0m\u001b[1;32m      4\u001b[0m         \u001b[0museful\u001b[0m \u001b[0;34m+=\u001b[0m \u001b[0;36m1\u001b[0m\u001b[0;34m\u001b[0m\u001b[0m\n\u001b[1;32m      5\u001b[0m     \u001b[0;32mif\u001b[0m \u001b[0mi\u001b[0m \u001b[0;34m%\u001b[0m \u001b[0;36m10000\u001b[0m \u001b[0;34m==\u001b[0m \u001b[0;36m0\u001b[0m\u001b[0;34m:\u001b[0m\u001b[0;34m\u001b[0m\u001b[0m\n",
      "\u001b[0;32m<ipython-input-17-2aed0ed3673b>\u001b[0m in \u001b[0;36mget_features\u001b[0;34m(mode, user_id)\u001b[0m\n\u001b[1;32m     48\u001b[0m         [\n\u001b[1;32m     49\u001b[0m \u001b[0;31m#             get_url_feature(good_url[mode], user_id),\u001b[0m\u001b[0;34m\u001b[0m\u001b[0;34m\u001b[0m\u001b[0m\n\u001b[0;32m---> 50\u001b[0;31m             \u001b[0mget_app_feature\u001b[0m\u001b[0;34m(\u001b[0m\u001b[0mgood_app\u001b[0m\u001b[0;34m[\u001b[0m\u001b[0mmode\u001b[0m\u001b[0;34m]\u001b[0m\u001b[0;34m,\u001b[0m \u001b[0muser_id\u001b[0m\u001b[0;34m)\u001b[0m\u001b[0;34m,\u001b[0m\u001b[0;34m\u001b[0m\u001b[0m\n\u001b[0m\u001b[1;32m     51\u001b[0m \u001b[0;31m#             get_query_feature(good_query[mode], user_id),\u001b[0m\u001b[0;34m\u001b[0m\u001b[0;34m\u001b[0m\u001b[0m\n\u001b[1;32m     52\u001b[0m \u001b[0;31m#             get_device_feature(user_id),\u001b[0m\u001b[0;34m\u001b[0m\u001b[0;34m\u001b[0m\u001b[0m\n",
      "\u001b[0;32m<ipython-input-17-2aed0ed3673b>\u001b[0m in \u001b[0;36mget_app_feature\u001b[0;34m(good, user_id)\u001b[0m\n\u001b[1;32m     20\u001b[0m                 \u001b[0mapp_num\u001b[0m \u001b[0;34m=\u001b[0m \u001b[0mgood\u001b[0m\u001b[0;34m[\u001b[0m\u001b[0mapp_id\u001b[0m\u001b[0;34m]\u001b[0m\u001b[0;34m\u001b[0m\u001b[0m\n\u001b[1;32m     21\u001b[0m                 \u001b[0mX\u001b[0m\u001b[0;34m[\u001b[0m\u001b[0mapp_num\u001b[0m\u001b[0;34m]\u001b[0m \u001b[0;34m=\u001b[0m \u001b[0;36m1.\u001b[0m\u001b[0;34m\u001b[0m\u001b[0m\n\u001b[0;32m---> 22\u001b[0;31m     \u001b[0;32mreturn\u001b[0m \u001b[0mnormalize\u001b[0m\u001b[0;34m(\u001b[0m\u001b[0mX\u001b[0m\u001b[0;34m)\u001b[0m\u001b[0;34m\u001b[0m\u001b[0m\n\u001b[0m\u001b[1;32m     23\u001b[0m \u001b[0;34m\u001b[0m\u001b[0m\n\u001b[1;32m     24\u001b[0m \u001b[0;32mdef\u001b[0m \u001b[0mget_query_feature\u001b[0m\u001b[0;34m(\u001b[0m\u001b[0mgood\u001b[0m\u001b[0;34m,\u001b[0m \u001b[0muser_id\u001b[0m\u001b[0;34m)\u001b[0m\u001b[0;34m:\u001b[0m\u001b[0;34m\u001b[0m\u001b[0m\n",
      "\u001b[0;32m<ipython-input-17-2aed0ed3673b>\u001b[0m in \u001b[0;36mnormalize\u001b[0;34m(x)\u001b[0m\n\u001b[1;32m      1\u001b[0m \u001b[0;32mdef\u001b[0m \u001b[0mnormalize\u001b[0m\u001b[0;34m(\u001b[0m\u001b[0mx\u001b[0m\u001b[0;34m)\u001b[0m\u001b[0;34m:\u001b[0m\u001b[0;34m\u001b[0m\u001b[0m\n\u001b[0;32m----> 2\u001b[0;31m     \u001b[0mmu\u001b[0m\u001b[0;34m,\u001b[0m \u001b[0msigma\u001b[0m \u001b[0;34m=\u001b[0m \u001b[0mnp\u001b[0m\u001b[0;34m.\u001b[0m\u001b[0mmean\u001b[0m\u001b[0;34m(\u001b[0m\u001b[0mx\u001b[0m\u001b[0;34m)\u001b[0m\u001b[0;34m,\u001b[0m \u001b[0mnp\u001b[0m\u001b[0;34m.\u001b[0m\u001b[0mstd\u001b[0m\u001b[0;34m(\u001b[0m\u001b[0mx\u001b[0m\u001b[0;34m)\u001b[0m \u001b[0;34m+\u001b[0m \u001b[0;36m1e-10\u001b[0m\u001b[0;34m\u001b[0m\u001b[0m\n\u001b[0m\u001b[1;32m      3\u001b[0m     \u001b[0;32mreturn\u001b[0m \u001b[0;34m(\u001b[0m\u001b[0mx\u001b[0m \u001b[0;34m-\u001b[0m \u001b[0mmu\u001b[0m\u001b[0;34m)\u001b[0m \u001b[0;34m/\u001b[0m \u001b[0msigma\u001b[0m\u001b[0;34m\u001b[0m\u001b[0m\n\u001b[1;32m      4\u001b[0m \u001b[0;34m\u001b[0m\u001b[0m\n\u001b[1;32m      5\u001b[0m \u001b[0;32mdef\u001b[0m \u001b[0mget_url_feature\u001b[0m\u001b[0;34m(\u001b[0m\u001b[0mgood\u001b[0m\u001b[0;34m,\u001b[0m \u001b[0muser_id\u001b[0m\u001b[0;34m)\u001b[0m\u001b[0;34m:\u001b[0m\u001b[0;34m\u001b[0m\u001b[0m\n",
      "\u001b[0;32m/usr/local/lib/python2.7/dist-packages/numpy/core/fromnumeric.pyc\u001b[0m in \u001b[0;36mstd\u001b[0;34m(a, axis, dtype, out, ddof, keepdims)\u001b[0m\n\u001b[1;32m   2990\u001b[0m \u001b[0;34m\u001b[0m\u001b[0m\n\u001b[1;32m   2991\u001b[0m     return _methods._std(a, axis=axis, dtype=dtype, out=out, ddof=ddof,\n\u001b[0;32m-> 2992\u001b[0;31m                          keepdims=keepdims)\n\u001b[0m\u001b[1;32m   2993\u001b[0m \u001b[0;34m\u001b[0m\u001b[0m\n\u001b[1;32m   2994\u001b[0m \u001b[0;34m\u001b[0m\u001b[0m\n",
      "\u001b[0;32m/usr/local/lib/python2.7/dist-packages/numpy/core/_methods.pyc\u001b[0m in \u001b[0;36m_std\u001b[0;34m(a, axis, dtype, out, ddof, keepdims)\u001b[0m\n\u001b[1;32m    122\u001b[0m \u001b[0;32mdef\u001b[0m \u001b[0m_std\u001b[0m\u001b[0;34m(\u001b[0m\u001b[0ma\u001b[0m\u001b[0;34m,\u001b[0m \u001b[0maxis\u001b[0m\u001b[0;34m=\u001b[0m\u001b[0mNone\u001b[0m\u001b[0;34m,\u001b[0m \u001b[0mdtype\u001b[0m\u001b[0;34m=\u001b[0m\u001b[0mNone\u001b[0m\u001b[0;34m,\u001b[0m \u001b[0mout\u001b[0m\u001b[0;34m=\u001b[0m\u001b[0mNone\u001b[0m\u001b[0;34m,\u001b[0m \u001b[0mddof\u001b[0m\u001b[0;34m=\u001b[0m\u001b[0;36m0\u001b[0m\u001b[0;34m,\u001b[0m \u001b[0mkeepdims\u001b[0m\u001b[0;34m=\u001b[0m\u001b[0mFalse\u001b[0m\u001b[0;34m)\u001b[0m\u001b[0;34m:\u001b[0m\u001b[0;34m\u001b[0m\u001b[0m\n\u001b[1;32m    123\u001b[0m     ret = _var(a, axis=axis, dtype=dtype, out=out, ddof=ddof,\n\u001b[0;32m--> 124\u001b[0;31m                keepdims=keepdims)\n\u001b[0m\u001b[1;32m    125\u001b[0m \u001b[0;34m\u001b[0m\u001b[0m\n\u001b[1;32m    126\u001b[0m     \u001b[0;32mif\u001b[0m \u001b[0misinstance\u001b[0m\u001b[0;34m(\u001b[0m\u001b[0mret\u001b[0m\u001b[0;34m,\u001b[0m \u001b[0mmu\u001b[0m\u001b[0;34m.\u001b[0m\u001b[0mndarray\u001b[0m\u001b[0;34m)\u001b[0m\u001b[0;34m:\u001b[0m\u001b[0;34m\u001b[0m\u001b[0m\n",
      "\u001b[0;32m/usr/local/lib/python2.7/dist-packages/numpy/core/_methods.pyc\u001b[0m in \u001b[0;36m_var\u001b[0;34m(a, axis, dtype, out, ddof, keepdims)\u001b[0m\n\u001b[1;32m    104\u001b[0m     \u001b[0;32melse\u001b[0m\u001b[0;34m:\u001b[0m\u001b[0;34m\u001b[0m\u001b[0m\n\u001b[1;32m    105\u001b[0m         \u001b[0mx\u001b[0m \u001b[0;34m=\u001b[0m \u001b[0mum\u001b[0m\u001b[0;34m.\u001b[0m\u001b[0mmultiply\u001b[0m\u001b[0;34m(\u001b[0m\u001b[0mx\u001b[0m\u001b[0;34m,\u001b[0m \u001b[0mx\u001b[0m\u001b[0;34m,\u001b[0m \u001b[0mout\u001b[0m\u001b[0;34m=\u001b[0m\u001b[0mx\u001b[0m\u001b[0;34m)\u001b[0m\u001b[0;34m\u001b[0m\u001b[0m\n\u001b[0;32m--> 106\u001b[0;31m     \u001b[0mret\u001b[0m \u001b[0;34m=\u001b[0m \u001b[0mumr_sum\u001b[0m\u001b[0;34m(\u001b[0m\u001b[0mx\u001b[0m\u001b[0;34m,\u001b[0m \u001b[0maxis\u001b[0m\u001b[0;34m,\u001b[0m \u001b[0mdtype\u001b[0m\u001b[0;34m,\u001b[0m \u001b[0mout\u001b[0m\u001b[0;34m,\u001b[0m \u001b[0mkeepdims\u001b[0m\u001b[0;34m)\u001b[0m\u001b[0;34m\u001b[0m\u001b[0m\n\u001b[0m\u001b[1;32m    107\u001b[0m \u001b[0;34m\u001b[0m\u001b[0m\n\u001b[1;32m    108\u001b[0m     \u001b[0;31m# Compute degrees of freedom and make sure it is not negative.\u001b[0m\u001b[0;34m\u001b[0m\u001b[0;34m\u001b[0m\u001b[0m\n",
      "\u001b[0;31mKeyboardInterrupt\u001b[0m: "
     ]
    }
   ],
   "source": [
    "useful = 0\n",
    "for i, user_id in enumerate(testset): # enumerate(testset.iterkeys()):\n",
    "    if np.sum(get_features('age', user_id)[0][:3000]) != 0:\n",
    "        useful += 1\n",
    "    if i % 10000 == 0:\n",
    "#     else:\n",
    "        print i + 1, useful, user_id"
   ]
  },
  {
   "cell_type": "code",
   "execution_count": 9,
   "metadata": {
    "collapsed": false
   },
   "outputs": [],
   "source": [
    "for i in range(10000):\n",
    "    x = get_features(\"gender\", \"8b46164d7f9860c1981a5f157a114cee\")"
   ]
  },
  {
   "cell_type": "code",
   "execution_count": 122,
   "metadata": {
    "collapsed": false
   },
   "outputs": [
    {
     "name": "stdout",
     "output_type": "stream",
     "text": [
      "fully_connected/weights:0\n",
      "fully_connected/biases:0\n",
      "fully_connected_1/weights:0\n",
      "fully_connected_1/biases:0\n",
      "fully_connected_2/weights:0\n",
      "fully_connected_2/biases:0\n",
      "fully_connected_3/weights:0\n",
      "fully_connected_3/biases:0\n",
      "fully_connected_4/weights:0\n",
      "fully_connected_4/biases:0\n",
      "fully_connected_5/weights:0\n",
      "fully_connected_5/biases:0\n",
      "fully_connected_6/weights:0\n",
      "fully_connected_6/biases:0\n",
      "fully_connected_7/weights:0\n",
      "fully_connected_7/biases:0\n",
      "fully_connected_8/weights:0\n",
      "fully_connected_8/biases:0\n",
      "fully_connected_9/weights:0\n",
      "fully_connected_9/biases:0\n",
      "fully_connected_10/weights:0\n",
      "fully_connected_10/biases:0\n",
      "fully_connected_11/weights:0\n",
      "fully_connected_11/biases:0\n"
     ]
    }
   ],
   "source": [
    "for op in tf.get_collection(tf.GraphKeys.TRAINABLE_VARIABLES):\n",
    "    print op.name"
   ]
  },
  {
   "cell_type": "code",
   "execution_count": 118,
   "metadata": {
    "collapsed": false
   },
   "outputs": [],
   "source": [
    "x = sess.run(\"fully_connected/weights:0\")"
   ]
  },
  {
   "cell_type": "code",
   "execution_count": 117,
   "metadata": {
    "collapsed": false
   },
   "outputs": [
    {
     "data": {
      "text/plain": [
       "(array([ 205,  460,  799, 1175, 1292, 1306, 1490, 1808, 1860, 1945, 2465,\n",
       "        2818, 2832, 3054]), array([1, 0, 0, 1, 0, 0, 0, 1, 1, 0, 0, 1, 0, 0]))"
      ]
     },
     "execution_count": 117,
     "metadata": {},
     "output_type": "execute_result"
    }
   ],
   "source": [
    "np.where(abs(x) < 1e-4)"
   ]
  },
  {
   "cell_type": "code",
   "execution_count": 120,
   "metadata": {
    "collapsed": false
   },
   "outputs": [
    {
     "data": {
      "text/plain": [
       "(array([ 632,  653,  723,  871,  929, 1063, 1338, 1425, 1588, 1636, 2102,\n",
       "        2175, 2395]), array([0, 0, 0, 1, 1, 0, 0, 0, 1, 1, 0, 0, 1]))"
      ]
     },
     "execution_count": 120,
     "metadata": {},
     "output_type": "execute_result"
    }
   ],
   "source": [
    "np.where(abs(x) < 1e-4)"
   ]
  },
  {
   "cell_type": "code",
   "execution_count": null,
   "metadata": {
    "collapsed": true
   },
   "outputs": [],
   "source": []
  }
 ],
 "metadata": {
  "kernelspec": {
   "display_name": "Python 2",
   "language": "python",
   "name": "python2"
  },
  "language_info": {
   "codemirror_mode": {
    "name": "ipython",
    "version": 2
   },
   "file_extension": ".py",
   "mimetype": "text/x-python",
   "name": "python",
   "nbconvert_exporter": "python",
   "pygments_lexer": "ipython2",
   "version": "2.7.12"
  }
 },
 "nbformat": 4,
 "nbformat_minor": 1
}
