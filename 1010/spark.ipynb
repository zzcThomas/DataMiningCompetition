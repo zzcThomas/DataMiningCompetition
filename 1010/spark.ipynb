{
 "cells": [
  {
   "cell_type": "code",
   "execution_count": 1,
   "metadata": {
    "collapsed": false
   },
   "outputs": [],
   "source": [
    "import numpy as np\n",
    "from math import *\n",
    "from random import shuffle"
   ]
  },
  {
   "cell_type": "code",
   "execution_count": 7,
   "metadata": {
    "collapsed": false
   },
   "outputs": [
    {
     "data": {
      "text/plain": [
       "11439408"
      ]
     },
     "execution_count": 7,
     "metadata": {},
     "output_type": "execute_result"
    }
   ],
   "source": [
    "RDD_user_labels = sc.textFile(\"contest_dataset_label/*\") \\\n",
    "    .map(lambdxxa x: x.split()) \\\n",
    "    .map(lambda x: (x[0], (int(x[1]) - 1, int(x[2]) - 1)))\n",
    "RDD_user_labels.count()"
   ]
  },
  {
   "cell_type": "code",
   "execution_count": 29,
   "metadata": {
    "collapsed": false
   },
   "outputs": [
    {
     "data": {
      "text/plain": [
       "array([7634428, 3804980])"
      ]
     },
     "execution_count": 29,
     "metadata": {},
     "output_type": "execute_result"
    }
   ],
   "source": [
    "all_gender = RDD_user_labels \\\n",
    "    .map(lambda x: (x[1][0], 1)) \\\n",
    "    .reduceByKey(lambda x, y: x + y) \\\n",
    "    .map(lambda x: x[1]) \\\n",
    "    .collect()\n",
    "all_gender = np.array(all_gender)\n",
    "all_gender"
   ]
  },
  {
   "cell_type": "code",
   "execution_count": 30,
   "metadata": {
    "collapsed": false
   },
   "outputs": [
    {
     "data": {
      "text/plain": [
       "array([2079603, 1736735, 1473666, 2682296, 2214497,  696202,  556409])"
      ]
     },
     "execution_count": 30,
     "metadata": {},
     "output_type": "execute_result"
    }
   ],
   "source": [
    "all_age = RDD_user_labels \\\n",
    "    .map(lambda x: (x[1][1], 1)) \\\n",
    "    .reduceByKey(lambda x, y: x + y) \\\n",
    "    .map(lambda x: x[1]) \\\n",
    "    .collect()\n",
    "all_age = np.array(all_age)\n",
    "all_age"
   ]
  },
  {
   "cell_type": "code",
   "execution_count": 33,
   "metadata": {
    "collapsed": false
   },
   "outputs": [],
   "source": [
    "all_gender = 1. * all_gender / sum(all_gender)\n",
    "all_age = 1. * all_age / sum(all_age)\n",
    "\n",
    "np.save(\"all_dist\", {'gender': all_gender, 'age': all_age})"
   ]
  },
  {
   "cell_type": "code",
   "execution_count": 2,
   "metadata": {
    "collapsed": false
   },
   "outputs": [],
   "source": [
    "x = np.load('all_dist.npy').item()\n",
    "all_gender, all_age = x['gender'], x['age']\n"
   ]
  },
  {
   "cell_type": "code",
   "execution_count": 10,
   "metadata": {
    "collapsed": true
   },
   "outputs": [],
   "source": [
    "RDD_url = sc.textFile(\"contest_dataset_url/*\") \\\n",
    "    .map(lambda x: x.split()) \\\n",
    "    .map(lambda x: (x[0], int(x[1]) - 1))m\n"
   ]
  },
  {
   "cell_type": "code",
   "execution_count": 3,
   "metadata": {
    "collapsed": false
   },
   "outputs": [],
   "source": [
    "x = np.load('tmp_url/freq.npy').item()\n",
    "freq_gender, freq_age = x['gender'], x['age']\n",
    "T = np.sum(freq_gender, axis=1)\n",
    "possible_urls = np.where(T > 10000)[0]"
   ]
  },
  {
   "cell_type": "code",
   "execution_count": 4,
   "metadata": {
    "collapsed": false
   },
   "outputs": [],
   "source": [
    "'''\n",
    "determine `good` app_id.\n",
    "\n",
    "criterion: \n",
    "  1. number of users must be larger than MIN_USERS\n",
    "  2. (DEPRECATED) corresponding distribution is `significantly` far from overall_distribution\n",
    "     `significantly`: distance > AGE_THRES (for age) or distance > GENDER_THRES (for gender)\n",
    "     distance measurement: KL divergence\n",
    "  3. picking the apps with largest distance from overall distribution.\n",
    "'''\n",
    "\n",
    "MIN_USERS = 10000\n",
    "MAX_URLS = 2000000\n",
    "REG_DIM = 300 # dimension of logistic regression\n",
    "\n",
    "gender_dists = []\n",
    "age_dists = []\n",
    "for url_id in possible_urls:\n",
    "    gender, age = freq_gender[url_id], freq_age[url_id]\n",
    "    if sum(gender) < MIN_USERS:\n",
    "        continue\n",
    "    population = sum(gender)\n",
    "    gender = 1. * gender / population\n",
    "    age = 1. * age / population\n",
    "    \n",
    "    extra = log(population) * 0.001\n",
    "    gender_dists += [(np.sum(gender * np.log(gender / all_gender + 1e-20)) + extra, url_id)]\n",
    "    age_dists += [(np.sum(age * np.log(age / all_age + 1e-20)) + extra, url_id)]\n",
    "\n",
    "gender_dists = list(reversed(sorted(gender_dists)))[:REG_DIM]\n",
    "age_dists = list(reversed(sorted(age_dists)))[:REG_DIM]\n",
    "\n",
    "good_gender_url_map = np.zeros(MAX_URLS) - 1\n",
    "good_age_url_map = np.zeros(MAX_URLS) - 1\n",
    "for i in range(REG_DIM):\n",
    "    good_gender_url_map[gender_dists[i][1]] = i\n",
    "    good_age_url_map[age_dists[i][1]] = i\n",
    "\n"
   ]
  },
  {
   "cell_type": "code",
   "execution_count": 5,
   "metadata": {
    "collapsed": true
   },
   "outputs": [],
   "source": [
    "testset = sc.textFile(\"contest_testset/*\").collect()"
   ]
  },
  {
   "cell_type": "code",
   "execution_count": 8,
   "metadata": {
    "collapsed": false
   },
   "outputs": [],
   "source": [
    "'''\n",
    "partition all possible user_id into 3 sets\n",
    "1. testset\n",
    "2. trainset\n",
    "3. devset\n",
    "\n",
    "user_id's in devset are used for cross validtion\n",
    "\n",
    "criterion to partition: random shuffle all user_id, devset owns the first `devset_size` user_ids.\n",
    "\n",
    "'''\n",
    "\n",
    "in_testset = {}\n",
    "in_trainset = {}\n",
    "in_devset = {}\n",
    "trainset_lists = []\n",
    "\n",
    "devset_size = 1000000\n",
    "\n",
    "for x in testset:\n",
    "    in_testset[x] = True\n",
    "\n",
    "all_labels = RDD_user_labels.map(lambda x: x[0]).collect()\n",
    "shuffle(all_labels)\n",
    "\n",
    "for i, user_id in enumerate(all_labels):\n",
    "    if i < devset_size:\n",
    "        in_devset[user_id] = True\n",
    "    in_trainset[user_id] = True\n",
    "trainset_lists = in_trainset.keys()\n"
   ]
  },
  {
   "cell_type": "code",
   "execution_count": 11,
   "metadata": {
    "collapsed": false
   },
   "outputs": [],
   "source": [
    "tmp = {}\n",
    "for i in in_testset.keys() + in_devset.keys():\n",
    "    tmp[i] = True\n",
    "\n",
    "RDD_results = RDD_url.filter(lambda x: x[0] in tmp and (good_gender_url_map[x[1]] != -1 or good_age_url_map[x[1]] != -1)).persist()"
   ]
  },
  {
   "cell_type": "code",
   "execution_count": null,
   "metadata": {
    "collapsed": false
   },
   "outputs": [],
   "source": [
    "all_results = RDD_results.collect()"
   ]
  },
  {
   "cell_type": "code",
   "execution_count": 85,
   "metadata": {
    "collapsed": false
   },
   "outputs": [
    {
     "data": {
      "text/plain": [
       "[(u'hive.metastore.warehouse.dir',\n",
       "  u'file:/home/xiaomi/\\u684c\\u9762/spark-warehouse'),\n",
       " (u'spark.sql.catalogImplementation', u'hive'),\n",
       " (u'spark.app.id', u'local-1474281421054'),\n",
       " (u'spark.rdd.compress', u'True'),\n",
       " (u'spark.driver.maxResultSize', u'100g'),\n",
       " (u'spark.driver.host', u'10.237.9.72'),\n",
       " (u'spark.serializer.objectStreamReset', u'100'),\n",
       " (u'spark.master', u'local[*]'),\n",
       " (u'spark.executor.id', u'driver'),\n",
       " (u'spark.submit.deployMode', u'client'),\n",
       " (u'spark.driver.memory', u'100g'),\n",
       " (u'spark.app.name', u'PySparkShell'),\n",
       " (u'spark.driver.port', u'41997')]"
      ]
     },
     "execution_count": 85,
     "metadata": {},
     "output_type": "execute_result"
    }
   ],
   "source": [
    "sc.set"
   ]
  },
  {
   "cell_type": "code",
   "execution_count": null,
   "metadata": {
    "collapsed": true
   },
   "outputs": [],
   "source": []
  }
 ],
 "metadata": {
  "kernelspec": {
   "display_name": "Python 2",
   "language": "python",
   "name": "python2"
  },
  "language_info": {
   "codemirror_mode": {
    "name": "ipython",
    "version": 2
   },
   "file_extension": ".py",
   "mimetype": "text/x-python",
   "name": "python",
   "nbconvert_exporter": "python",
   "pygments_lexer": "ipython2",
   "version": "2.7.12"
  }
 },
 "nbformat": 4,
 "nbformat_minor": 1
}
